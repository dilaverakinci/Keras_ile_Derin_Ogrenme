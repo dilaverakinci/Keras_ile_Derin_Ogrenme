{
 "cells": [
  {
   "cell_type": "code",
   "execution_count": 1,
   "id": "c81acecf-ffda-46fb-b659-39b492e8fae7",
   "metadata": {},
   "outputs": [],
   "source": [
    "import numpy as np"
   ]
  },
  {
   "cell_type": "markdown",
   "id": "6a1863f2-25e5-4542-8c4e-cdd451cc455c",
   "metadata": {},
   "source": [
    "- <code>timesteps</code> girişteki zaman adımı sayısı\n",
    "- ```input_features``` girdi nitelik uzayının boyutu\n",
    "- ```output_features``` çıktı nitelik uzayının boyutu"
   ]
  },
  {
   "cell_type": "code",
   "execution_count": 2,
   "id": "2d90cfef-cabb-41a5-a2be-95e07c7a1992",
   "metadata": {},
   "outputs": [],
   "source": [
    "timesteps = 100\n",
    "input_features = 32\n",
    "output_features = 64"
   ]
  },
  {
   "cell_type": "markdown",
   "id": "b905c681-c547-42df-a275-2b0cda7e54da",
   "metadata": {},
   "source": [
    "**Basit olması için girdi verisini rastgele gürültü olarak seçelim.**"
   ]
  },
  {
   "cell_type": "code",
   "execution_count": 3,
   "id": "8c4484b3-3e74-415f-8b4f-d560f2d36705",
   "metadata": {},
   "outputs": [],
   "source": [
    "inputs = np.random.random((timesteps, input_features))"
   ]
  },
  {
   "cell_type": "markdown",
   "id": "20272692-848c-49ae-816c-5f0c08c4364c",
   "metadata": {},
   "source": [
    "**Başlangıç durumu için tüm elemanları sıfırdan oluşan bir vektör oluşturalım.**"
   ]
  },
  {
   "cell_type": "code",
   "execution_count": 4,
   "id": "9d802bb8-837b-4182-a5ae-e6e9d5cabdec",
   "metadata": {},
   "outputs": [],
   "source": [
    "state_t = np.zeros((output_features,))"
   ]
  },
  {
   "cell_type": "markdown",
   "id": "a1bbe191-3aca-4b8f-a624-980910052d75",
   "metadata": {},
   "source": [
    "**Rastgele oluşan ağırlık matrisleri**"
   ]
  },
  {
   "cell_type": "code",
   "execution_count": 5,
   "id": "3c1c0ba2-9322-4fc9-92b0-b89824a05576",
   "metadata": {},
   "outputs": [],
   "source": [
    "W = np.random.random((output_features, input_features))\n",
    "U = np.random.random((output_features, output_features))\n",
    "b = np.random.random((output_features,))"
   ]
  },
  {
   "cell_type": "markdown",
   "id": "53164cce-7f00-4867-a4c1-ab8e3a4eeefc",
   "metadata": {},
   "source": [
    "**Girdi ve mevcut duruma göre çıktının oluşturulması**"
   ]
  },
  {
   "cell_type": "code",
   "execution_count": 9,
   "id": "81b2c440-1107-416a-a6c0-6222fb7f916f",
   "metadata": {},
   "outputs": [],
   "source": [
    "successive_outputs = []\n",
    "for input_t in inputs :\n",
    "    output_t = np.tanh(np.dot(W, input_t) + np.dot(U, state_t) + b)\n",
    "    successive_outputs.append(output_t)\n",
    "    state_t = output_features\n",
    "    \n",
    "final_output_sequence = np.concatenate(successive_outputs, axis=0)\n",
    "\n",
    "output_t = np.tanh(np.dot(W,input_t) + np.dot(U, state_t) + b)"
   ]
  },
  {
   "cell_type": "code",
   "execution_count": 10,
   "id": "257d10d6-b99d-444f-a93d-9c05dfbd7d12",
   "metadata": {},
   "outputs": [
    {
     "data": {
      "text/plain": [
       "array([[1.        , 1.        , 1.        , ..., 1.        , 1.        ,\n",
       "        1.        ],\n",
       "       [1.        , 1.        , 1.        , ..., 1.        , 1.        ,\n",
       "        1.        ],\n",
       "       [1.        , 1.        , 1.        , ..., 1.        , 1.        ,\n",
       "        1.        ],\n",
       "       ...,\n",
       "       [1.        , 1.        , 1.        , ..., 1.        , 1.        ,\n",
       "        1.        ],\n",
       "       [0.99999897, 1.        , 1.        , ..., 1.        , 1.        ,\n",
       "        1.        ],\n",
       "       [1.        , 1.        , 1.        , ..., 1.        , 1.        ,\n",
       "        1.        ]])"
      ]
     },
     "execution_count": 10,
     "metadata": {},
     "output_type": "execute_result"
    }
   ],
   "source": []
  },
  {
   "cell_type": "code",
   "execution_count": null,
   "id": "0acf314c-2f4f-424e-ae0a-2c5655a300a9",
   "metadata": {},
   "outputs": [],
   "source": []
  }
 ],
 "metadata": {
  "kernelspec": {
   "display_name": "Python 3 (ipykernel)",
   "language": "python",
   "name": "python3"
  },
  "language_info": {
   "codemirror_mode": {
    "name": "ipython",
    "version": 3
   },
   "file_extension": ".py",
   "mimetype": "text/x-python",
   "name": "python",
   "nbconvert_exporter": "python",
   "pygments_lexer": "ipython3",
   "version": "3.12.3"
  }
 },
 "nbformat": 4,
 "nbformat_minor": 5
}
