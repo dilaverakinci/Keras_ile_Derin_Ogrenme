{
 "cells": [
  {
   "cell_type": "markdown",
   "id": "0def27b2-a5aa-4bc8-bd0e-3728458c4dd3",
   "metadata": {},
   "source": [
    "# EVRİŞİMLİ SİNİR AĞI MODELLEME"
   ]
  },
  {
   "cell_type": "code",
   "execution_count": 37,
   "id": "6a5d703f-a369-4a88-bbbc-4702a78d29be",
   "metadata": {},
   "outputs": [
    {
     "name": "stdout",
     "output_type": "stream",
     "text": [
      "[name: \"/device:CPU:0\"\n",
      "device_type: \"CPU\"\n",
      "memory_limit: 268435456\n",
      "locality {\n",
      "}\n",
      "incarnation: 11011422988964887697\n",
      "xla_global_id: -1\n",
      ", name: \"/device:GPU:0\"\n",
      "device_type: \"GPU\"\n",
      "memory_limit: 6956253184\n",
      "locality {\n",
      "  bus_id: 1\n",
      "  links {\n",
      "    link {\n",
      "      device_id: 1\n",
      "      type: \"StreamExecutor\"\n",
      "      strength: 1\n",
      "    }\n",
      "  }\n",
      "}\n",
      "incarnation: 3170824558674441513\n",
      "physical_device_desc: \"device: 0, name: NVIDIA GeForce GTX 1070, pci bus id: 0000:01:00.0, compute capability: 6.1\"\n",
      "xla_global_id: 416903419\n",
      ", name: \"/device:GPU:1\"\n",
      "device_type: \"GPU\"\n",
      "memory_limit: 6956253184\n",
      "locality {\n",
      "  bus_id: 1\n",
      "  links {\n",
      "    link {\n",
      "      type: \"StreamExecutor\"\n",
      "      strength: 1\n",
      "    }\n",
      "  }\n",
      "}\n",
      "incarnation: 2781863983376903738\n",
      "physical_device_desc: \"device: 1, name: NVIDIA GeForce GTX 1070, pci bus id: 0000:02:00.0, compute capability: 6.1\"\n",
      "xla_global_id: 2144165316\n",
      "]\n"
     ]
    },
    {
     "name": "stderr",
     "output_type": "stream",
     "text": [
      "I0000 00:00:1738307662.032273    1813 gpu_device.cc:2022] Created device /device:GPU:0 with 6634 MB memory:  -> device: 0, name: NVIDIA GeForce GTX 1070, pci bus id: 0000:01:00.0, compute capability: 6.1\n",
      "I0000 00:00:1738307662.032349    1813 gpu_device.cc:2022] Created device /device:GPU:1 with 6634 MB memory:  -> device: 1, name: NVIDIA GeForce GTX 1070, pci bus id: 0000:02:00.0, compute capability: 6.1\n"
     ]
    }
   ],
   "source": [
    "from tensorflow.python.client import device_lib\n",
    "\n",
    "print(device_lib.list_local_devices())"
   ]
  },
  {
   "cell_type": "markdown",
   "id": "393ad4cc-d4cf-4312-b29b-65d354d7eb12",
   "metadata": {},
   "source": [
    "## Gerekli Kütüphanelerin Kurulması"
   ]
  },
  {
   "cell_type": "code",
   "execution_count": 38,
   "id": "d0c8399c-1866-4fc8-904f-37e545d9955b",
   "metadata": {},
   "outputs": [],
   "source": [
    "import numpy as np\n",
    "import h5py\n",
    "import matplotlib.pyplot as plt"
   ]
  },
  {
   "cell_type": "code",
   "execution_count": 39,
   "id": "2b9c4c62-a8d6-4555-8d60-383ce013e513",
   "metadata": {},
   "outputs": [],
   "source": [
    "plt.rcParams[\"figure.figsize\"]=(5.0,4.0)\n",
    "plt.rcParams[\"image.interpolation\"]=\"nearest\"\n",
    "plt.rcParams[\"image.cmap\"] = \"gray\""
   ]
  },
  {
   "cell_type": "code",
   "execution_count": 40,
   "id": "cef3aa49-d0c0-4867-b8f9-bf51cf57ce7b",
   "metadata": {},
   "outputs": [
    {
     "name": "stdout",
     "output_type": "stream",
     "text": [
      "The autoreload extension is already loaded. To reload it, use:\n",
      "  %reload_ext autoreload\n"
     ]
    }
   ],
   "source": [
    "%load_ext autoreload\n",
    "%autoreload 2"
   ]
  },
  {
   "cell_type": "code",
   "execution_count": 41,
   "id": "1e5dfbdb-137a-4590-ba72-2f3cdb48bff6",
   "metadata": {},
   "outputs": [],
   "source": [
    "np.random.seed(1)"
   ]
  },
  {
   "cell_type": "code",
   "execution_count": 42,
   "id": "fadfd7a1-ca29-44da-b0ca-ac3428408dd2",
   "metadata": {},
   "outputs": [],
   "source": [
    "def zero_pad(X, pad):\n",
    "    X_pad = np.pad(X, ((0,0), (pad, pad), (pad,pad), (0,0)), 'constant', constant_values = 0)\n",
    "    return X_pad"
   ]
  },
  {
   "cell_type": "code",
   "execution_count": 43,
   "id": "93c51856-eaac-45a5-83e3-96a16ed7bb5d",
   "metadata": {},
   "outputs": [],
   "source": [
    "np.random.seed(1)\n",
    "x = np.random.randn(4,3,3,2)\n",
    "x_pad = zero_pad(x,2)"
   ]
  },
  {
   "cell_type": "code",
   "execution_count": 44,
   "id": "4a164cc4-c5ae-4a5d-86ea-f77cc6761b98",
   "metadata": {},
   "outputs": [
    {
     "name": "stdout",
     "output_type": "stream",
     "text": [
      "x.shape : (4, 3, 3, 2)\n",
      "x_pad.shape : (4, 7, 7, 2)\n",
      "x[1,1] : [[ 0.90085595 -0.68372786]\n",
      " [-0.12289023 -0.93576943]\n",
      " [-0.26788808  0.53035547]]\n",
      "x_pad[1,1 : [[0. 0.]\n",
      " [0. 0.]\n",
      " [0. 0.]\n",
      " [0. 0.]\n",
      " [0. 0.]\n",
      " [0. 0.]\n",
      " [0. 0.]]\n"
     ]
    },
    {
     "data": {
      "text/plain": [
       "<matplotlib.image.AxesImage at 0x7fdd41153380>"
      ]
     },
     "execution_count": 44,
     "metadata": {},
     "output_type": "execute_result"
    },
    {
     "data": {
      "image/png": "[encoded data removed]",
      "text/plain": [
       "<Figure size 500x400 with 2 Axes>"
      ]
     },
     "metadata": {},
     "output_type": "display_data"
    }
   ],
   "source": [
    "print(\"x.shape :\",x.shape)\n",
    "print(\"x_pad.shape :\",x_pad.shape)\n",
    "print(\"x[1,1] :\", x[1,1])\n",
    "print(\"x_pad[1,1 :\",x_pad[1,1])\n",
    "\n",
    "fig, axarr = plt.subplots(1,2)\n",
    "axarr[0].set_title(\"x\")\n",
    "axarr[0].imshow(x[0,:,:,0])\n",
    "axarr[1].set_title(\"x_pad\")\n",
    "axarr[1].imshow(x_pad[0,:,:,0])"
   ]
  },
  {
   "cell_type": "markdown",
   "id": "d91d2b37-f215-470d-82b3-83b5a47d8fbb",
   "metadata": {},
   "source": [
    "#### Bir evrişim işleminin tanımlanması!"
   ]
  },
  {
   "cell_type": "code",
   "execution_count": 45,
   "id": "c8b6129f-5f58-4ae8-b570-b00f90b0fd2e",
   "metadata": {},
   "outputs": [],
   "source": [
    "def conv_single_step(a_slice_prev,w,b):\n",
    "    s = np.multiply(a_slice_prev, w)\n",
    "    Z = np.sum(s)\n",
    "    Z = float(b) + Z\n",
    "    return Z"
   ]
  },
  {
   "cell_type": "markdown",
   "id": "1d943a25-2514-4489-bd09-3262e2b02ed0",
   "metadata": {},
   "source": [
    "**Z=x.W+b Sonucunun hesaplanması**"
   ]
  },
  {
   "cell_type": "code",
   "execution_count": 46,
   "id": "0641ac02-d76a-4a88-9c8d-ca7fd148c765",
   "metadata": {},
   "outputs": [
    {
     "name": "stdout",
     "output_type": "stream",
     "text": [
      "Z : -6.999089450680221\n"
     ]
    },
    {
     "name": "stderr",
     "output_type": "stream",
     "text": [
      "/tmp/ipykernel_1813/826202923.py:4: DeprecationWarning: Conversion of an array with ndim > 0 to a scalar is deprecated, and will error in future. Ensure you extract a single element from your array before performing this operation. (Deprecated NumPy 1.25.)\n",
      "  Z = float(b) + Z\n"
     ]
    }
   ],
   "source": [
    "np.random.seed(1)\n",
    "\n",
    "a_slice_prev = np.random.randn(4, 4, 3)\n",
    "\n",
    "W = np.random.randn(4, 4, 3)\n",
    "\n",
    "b = np.random.randn(1, 1, 1)\n",
    "\n",
    "Z = conv_single_step(a_slice_prev, W, b)\n",
    "\n",
    "print(\"Z :\",Z)"
   ]
  },
  {
   "cell_type": "markdown",
   "id": "f3cd8069-cffd-4a64-887c-19613577e5ab",
   "metadata": {},
   "source": [
    "## İleri Yayılım Algoritması için fonksiyon tanımlayalım"
   ]
  },
  {
   "cell_type": "code",
   "execution_count": 47,
   "id": "3661ffe6-88e9-489f-b753-4ede3e5cb5ee",
   "metadata": {},
   "outputs": [],
   "source": [
    "def conv_forward(A_prev, W, b, hparamaters):\n",
    "    (m, n_H_prev, n_W_prev, n_C_prev) = A_prev.shape\n",
    "    \n",
    "    (f, f, n_C_prev, n_C) = W.shape\n",
    "\n",
    "    stride = hparamaters[\"stride\"]\n",
    "    pad = hparamaters[\"pad\"]\n",
    "\n",
    "    n_H = int(((n_H_prev - f + 2 * pad) / stride) + 1)\n",
    "    n_W = int(((n_W_prev - f + 2 * pad) / stride) + 1)\n",
    "\n",
    "    Z = np.zeros([m, n_H, n_W, n_C])\n",
    "\n",
    "    A_prev_pad = zero_pad(A_prev, pad)\n",
    "\n",
    "    for i in range(m):\n",
    "        a_prev_pad = A_prev_pad[i]\n",
    "        for h in range(n_H):\n",
    "            for w in range(n_W):\n",
    "                for c in range(n_C):\n",
    "\n",
    "                    vert_start = h * stride\n",
    "                    vert_end = vert_start + f\n",
    "                    horiz_start = w * stride\n",
    "                    horiz_end = horiz_start + f\n",
    "\n",
    "                    # Bu satırda a_slice_prev'in son boyutuna tüm kanallar dahil edilmelidir\n",
    "                    a_slice_prev = a_prev_pad[vert_start:vert_end, horiz_start:horiz_end]\n",
    "\n",
    "                    # W[..., c] her bir kanal için filtreyi kullanıyoruz\n",
    "                    Z[i, h, w, c] = conv_single_step(a_slice_prev, W[..., c], b[..., c])\n",
    "\n",
    "    assert (Z.shape == (m, n_H, n_W, n_C))\n",
    "\n",
    "    cache = (A_prev, W, b, hparamaters)\n",
    "\n",
    "    return Z, cache"
   ]
  },
  {
   "cell_type": "code",
   "execution_count": 48,
   "id": "e4055757-ab90-4975-a0d7-b8ae9279a25e",
   "metadata": {},
   "outputs": [
    {
     "name": "stdout",
     "output_type": "stream",
     "text": [
      "Z'nin ortalama : 0.048995203528855794\n",
      "Z[3, 2, 1] : [-0.61490741 -6.7439236  -2.55153897  1.75698377  3.56208902  0.53036437\n",
      "  5.18531798  8.75898442]\n",
      "cache_conv[0][1][2][3] : [-0.20075807  0.18656139  0.41005165]\n"
     ]
    },
    {
     "name": "stderr",
     "output_type": "stream",
     "text": [
      "/tmp/ipykernel_1813/826202923.py:4: DeprecationWarning: Conversion of an array with ndim > 0 to a scalar is deprecated, and will error in future. Ensure you extract a single element from your array before performing this operation. (Deprecated NumPy 1.25.)\n",
      "  Z = float(b) + Z\n"
     ]
    }
   ],
   "source": [
    "np.random.seed(1)\n",
    "A_prev = np.random.randn(10, 4, 4, 3)\n",
    "W = np.random.randn(2, 2, 3, 8)\n",
    "b = np.random.randn(1, 1, 1, 8)\n",
    "\n",
    "hparameters = {\"pad\": 2,\n",
    "              \"stride\":2}\n",
    "\n",
    "Z, cache_conv = conv_forward(A_prev, W, b, hparameters)\n",
    "\n",
    "print(\"Z'nin ortalama :\",np.mean(Z))\n",
    "print(\"Z[3, 2, 1] :\",Z[3, 2, 1])\n",
    "print(\"cache_conv[0][1][2][3] :\", cache_conv[0][1][2][3])"
   ]
  },
  {
   "cell_type": "code",
   "execution_count": 49,
   "id": "8055f68d-6e40-4e47-96c2-0608bbd057a1",
   "metadata": {},
   "outputs": [],
   "source": [
    "def pool_forward(A_prev, hparameters, mode = \"max\"):\n",
    "    \n",
    "    (m, n_H_prev, n_W_prev, n_C_prev) = A_prev.shape\n",
    "\n",
    "    f = hparameters[\"f\"]\n",
    "    stride = hparameters[\"stride\"]\n",
    "\n",
    "    n_H = int(1 + (n_H_prev -f) / stride)\n",
    "    n_W = int(1 + (n_H_prev -f) / stride)\n",
    "    n_C = n_C_prev\n",
    "\n",
    "    A = np.zeros((m, n_H, n_W, n_C))\n",
    "\n",
    "    for i in range(m):\n",
    "        for h in range(n_H):\n",
    "            for w in range(n_W):\n",
    "                for c in range(n_C):\n",
    "\n",
    "                    vert_start = h * stride\n",
    "                    vert_end = vert_start + f\n",
    "                    horiz_start = w * stride\n",
    "                    horiz_end = horiz_start + f\n",
    "\n",
    "                    a_prev_slice = A_prev[i, vert_start:vert_end,horiz_start:horiz_end,c]\n",
    "\n",
    "                    if mode == \"max\":\n",
    "                        A[i, h, w, c] = np.max(a_prev_slice)\n",
    "                    elif mode == \"average\":\n",
    "                        A[i, h, w, c] = np.mean(a_prev_slice)\n",
    "    cache = (A_prev, hparameters)\n",
    "\n",
    "    assert(A.shape ==(m, n_H, n_W, n_C))\n",
    "\n",
    "    return A, cache"
   ]
  },
  {
   "cell_type": "markdown",
   "id": "60509297-46b2-4262-9102-029b761aa2c6",
   "metadata": {},
   "source": [
    "### Farklı ortaklama tipleri için sonuçları karşılaştıralım!"
   ]
  },
  {
   "cell_type": "code",
   "execution_count": 50,
   "id": "ac9fca79-63b4-4a98-9933-2db9bca844c3",
   "metadata": {},
   "outputs": [
    {
     "name": "stdout",
     "output_type": "stream",
     "text": [
      "mod : max\n",
      "A : [[[[1.74481176 0.86540763 1.13376944]]]\n",
      "\n",
      "\n",
      " [[[1.13162939 1.51981682 2.18557541]]]]\n",
      "mod : average\n",
      "A : [[[[ 0.02105773 -0.20328806 -0.40389855]]]\n",
      "\n",
      "\n",
      " [[[-0.22154621  0.51716526  0.48155844]]]]\n"
     ]
    }
   ],
   "source": [
    "np.random.seed(1)\n",
    "\n",
    "A_prev = np.random.randn(2, 4, 4, 3)\n",
    "hparameters = {\"stride\":2, \"f\":3}\n",
    "\n",
    "A, cache = pool_forward(A_prev,hparameters)\n",
    "\n",
    "print(\"mod : max\")\n",
    "print(\"A :\", A)\n",
    "\n",
    "A, cache = pool_forward(A_prev,hparameters, mode=\"average\")\n",
    "\n",
    "print(\"mod : average\")\n",
    "print(\"A :\", A)"
   ]
  },
  {
   "cell_type": "markdown",
   "id": "efd7f818-6aa5-4251-a257-69ace237d453",
   "metadata": {},
   "source": [
    "## Geriye Yayılım Algoritması için Fonksiyon Tanımlayalım"
   ]
  },
  {
   "cell_type": "code",
   "execution_count": 51,
   "id": "0c855bd8-86fb-4e28-b808-fa558ae94d60",
   "metadata": {},
   "outputs": [],
   "source": [
    "def conv_bacward(dZ, cache):\n",
    "    \n",
    "    (A_prev, W, b, hparameters) = cache\n",
    "    \n",
    "    (m, n_H_prev, n_W_prev, n_C_prev) = A_prev.shape\n",
    "\n",
    "    (f, f, n_C_prev, n_C) = W.shape\n",
    "\n",
    "    stride = hparameters[\"stride\"]\n",
    "    pad = hparameters[\"pad\"]\n",
    "\n",
    "    (m, n_H, n_W, n_C) = dZ.shape\n",
    "\n",
    "    dA_prev = np.zeros((m, n_H_prev, n_W_prev, n_C_prev))\n",
    "    dW = np.zeros((f, f, n_C_prev, n_C))\n",
    "    db = np.zeros((1, 1, 1, n_C))\n",
    "\n",
    "    A_prev_pad = zero_pad(A_prev, pad)\n",
    "    dA_prev_pad =zero_pad(dA_prev, pad)\n",
    "\n",
    "    for i in range (m):\n",
    "        a_prev_pad = A_prev[i]\n",
    "        da_prev_pad = dA_prev_pad[i]\n",
    "\n",
    "        for h in range(n_H):\n",
    "            for w in range(n_W):\n",
    "                for c in range(n_C):\n",
    "                    \n",
    "                    vert_start = h \n",
    "                    vert_end = vert_start + f\n",
    "                    horiz_start = w\n",
    "                    horiz_end = horiz_start + f\n",
    "\n",
    "                    a_slice = a_prev_pad[vert_start:vert_end, horiz_start:horiz_end, :]\n",
    "\n",
    "                    da_prev_pad[vert_start:vert_end, \n",
    "                                horiz_start:horiz_end, :] += W[:, :, :, c] * dZ[i, h, w, c]\n",
    "\n",
    "                    dW[:, :, :, c] += a_slice * dZ[i, h, w, c]\n",
    "                    db[:,:,:,c] += dZ[i, h, w, c]\n",
    "                    \n",
    "        dA_prev[i, :, :, :] = da_prev_pad[pad:-pad, pad:-pad,:]\n",
    "\n",
    "    assert (dA_prev.shape == (m, n_H_prev, n_W_prev, n_C_prev))\n",
    "\n",
    "    return dA_prev, dW, db"
   ]
  },
  {
   "cell_type": "code",
   "execution_count": 52,
   "id": "418aa9d8-b623-45bc-9f5e-6095083493f6",
   "metadata": {},
   "outputs": [
    {
     "name": "stdout",
     "output_type": "stream",
     "text": [
      "dA ortalama : 0.6347704472654743\n",
      "dW ortalama : 2.4767500956259423\n",
      "db ortalama : 7.839232564616838\n"
     ]
    }
   ],
   "source": [
    "np.random.seed(1)\n",
    "dA, dW, db = conv_bacward(Z, cache_conv)\n",
    "\n",
    "print(\"dA ortalama :\", np.mean(dA))\n",
    "print(\"dW ortalama :\", np.mean(dW))\n",
    "print(\"db ortalama :\", np.mean(db))"
   ]
  },
  {
   "cell_type": "code",
   "execution_count": 53,
   "id": "dbb6d3dd-e1c4-4075-b08c-afdc5d139279",
   "metadata": {},
   "outputs": [],
   "source": [
    "def create_mask_from_window(x):\n",
    "    mask = x == np.max(x)\n",
    "    return mask"
   ]
  },
  {
   "cell_type": "code",
   "execution_count": 54,
   "id": "bab620e5-90e9-4326-a7b0-310ebf25e1c4",
   "metadata": {},
   "outputs": [
    {
     "name": "stdout",
     "output_type": "stream",
     "text": [
      "x : [[ 1.62434536 -0.61175641 -0.52817175]\n",
      " [-1.07296862  0.86540763 -2.3015387 ]]\n",
      "Mask :  [[ True False False]\n",
      " [False False False]]\n"
     ]
    }
   ],
   "source": [
    "np.random.seed(1)\n",
    "x = np.random.randn(2,3)\n",
    "mask = create_mask_from_window(x)\n",
    "\n",
    "print(\"x :\", x)\n",
    "print(\"Mask : \", mask)"
   ]
  },
  {
   "cell_type": "code",
   "execution_count": 55,
   "id": "4a1e5044-1d07-463a-bd9a-97a356911005",
   "metadata": {},
   "outputs": [],
   "source": [
    "def distribute_value(dZ, shape):\n",
    "    (n_H, n_W) = shape\n",
    "\n",
    "    average = dZ / (n_H * n_W)\n",
    "\n",
    "    a= np.ones(shape) * average\n",
    "\n",
    "    return a"
   ]
  },
  {
   "cell_type": "code",
   "execution_count": 56,
   "id": "c9835408-8bc3-4040-bf3b-e753f75def82",
   "metadata": {},
   "outputs": [
    {
     "name": "stdout",
     "output_type": "stream",
     "text": [
      "dağıtılmış değer [[0.5 0.5]\n",
      " [0.5 0.5]]\n"
     ]
    }
   ],
   "source": [
    "a = distribute_value(2, (2,2))\n",
    "\n",
    "print(\"dağıtılmış değer\",a)"
   ]
  },
  {
   "cell_type": "code",
   "execution_count": 57,
   "id": "43c96d85-6ba3-437a-a089-11e02060096e",
   "metadata": {},
   "outputs": [],
   "source": [
    "def pool_backward(dA, cache, mode=\"max\"):\n",
    "\n",
    "    #(A_prev, hparameters) = cache\n",
    "    (A_prev, hparameters) = cache\n",
    "\n",
    "\n",
    "   #stride = hparameters['stride']\n",
    "    stride = hparameters[\"stride\"]\n",
    "   #f = hparameters['f']\n",
    "    f = hparameters[\"f\"]\n",
    "\n",
    "   #m, n_H_prev, n_W_prev, n_C_prev = A_prev.shape \n",
    "    m, n_H_prev, n_W_prev, n_C_prev = A_prev.shape\n",
    "   #m, n_H, n_W, n_C = dA.shape\n",
    "    m, n_H, n_W, n_C = dA.shape\n",
    "\n",
    "    dA_prev = np.zeros(A_prev.shape)\n",
    "\n",
    "    for i in range(m):\n",
    "\n",
    "        \n",
    "        a_prev = A_prev[i]\n",
    "\n",
    "        for h in range(n_H):\n",
    "            for w in range(n_W):\n",
    "                for c in range(n_C):\n",
    "                    \n",
    "                    vert_start = h \n",
    "                    vert_end = vert_start + f\n",
    "                    horiz_start = w\n",
    "                    horiz_end = horiz_start + f\n",
    "\n",
    "                    if mode == \"max\":\n",
    "\n",
    "                        \n",
    "                        a_prev_slice = a_prev[vert_start:vert_end, horiz_start:horiz_end, c]\n",
    "                        mask = create_mask_from_window(a_prev_slice)\n",
    "                        dA_prev[i, vert_start: vert_end, horiz_start: horiz_end, c] += np.multiply(mask, dA[i, h, w, c])\n",
    "                        \n",
    "                    elif mode == \"average\":\n",
    "                        \n",
    "                        da = dA[i, h, w, c]\n",
    "                        shape = (f, f)\n",
    "                        dA_prev[i, vert_start:vert_end, horiz_start:horiz_end,c] += distribute_value(da,shape)\n",
    "\n",
    "\n",
    "    assert(dA_prev.shape == A_prev.shape)\n",
    "\n",
    "    return dA_prev"
   ]
  },
  {
   "cell_type": "markdown",
   "id": "22c3c432-9f2d-497f-8c57-fd9f958362a2",
   "metadata": {},
   "source": [
    "### Geriye yayılım ile güncellenen ağırlıklar ve diğer parametreler"
   ]
  },
  {
   "cell_type": "code",
   "execution_count": 58,
   "id": "57d71e01-381b-4fab-9370-5e7ff592defc",
   "metadata": {},
   "outputs": [
    {
     "name": "stdout",
     "output_type": "stream",
     "text": [
      "mod : max\n",
      "dA'nın ortalaması : 0.14571390272918056\n",
      "dA_prev[1,1] :  [[ 0.          0.        ]\n",
      " [ 5.05844394 -1.68282702]\n",
      " [ 0.          0.        ]]\n",
      "\n",
      "mod : average\n",
      "dA'nın ortalaması : 0.14571390272918056\n",
      "dA_prev[1,1] :  [[ 0.08485462  0.2787552 ]\n",
      " [ 1.26461098 -0.25749373]\n",
      " [ 1.17975636 -0.53624893]]\n",
      "\n"
     ]
    }
   ],
   "source": [
    "np.random.seed(1)\n",
    "\n",
    "A_prev = np.random.randn(5, 5, 3, 2)\n",
    "hparameters = {\"stride\":2,\"f\":2}\n",
    "A, cache = pool_forward(A_prev, hparameters)\n",
    "dA = np.random.randn(5, 4, 2 ,2)\n",
    "\n",
    "dA_prev = pool_backward(dA, cache, mode=\"max\")\n",
    "\n",
    "print(\"mod : max\")\n",
    "print(\"dA'nın ortalaması :\",np.mean(dA))\n",
    "print(\"dA_prev[1,1] : \",dA_prev[1,1])\n",
    "print()\n",
    "\n",
    "dA_prev = pool_backward(dA, cache, mode=\"average\")\n",
    "\n",
    "print(\"mod : average\")\n",
    "print(\"dA'nın ortalaması :\",np.mean(dA))\n",
    "print(\"dA_prev[1,1] : \",dA_prev[1,1])\n",
    "print()"
   ]
  },
  {
   "cell_type": "code",
   "execution_count": null,
   "id": "e61f11c0-6a1b-4ef5-9879-0aafa3cc6bc6",
   "metadata": {},
   "outputs": [],
   "source": []
  }
 ],
 "metadata": {
  "kernelspec": {
   "display_name": "Python 3 (ipykernel)",
   "language": "python",
   "name": "python3"
  },
  "language_info": {
   "codemirror_mode": {
    "name": "ipython",
    "version": 3
   },
   "file_extension": ".py",
   "mimetype": "text/x-python",
   "name": "python",
   "nbconvert_exporter": "python",
   "pygments_lexer": "ipython3",
   "version": "3.12.3"
  }
 },
 "nbformat": 4,
 "nbformat_minor": 5
}
