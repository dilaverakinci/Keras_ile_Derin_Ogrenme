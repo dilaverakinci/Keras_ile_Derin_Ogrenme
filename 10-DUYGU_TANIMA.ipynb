{
 "cells": [
  {
   "cell_type": "markdown",
   "id": "83a5eb16-8d6d-4f8e-92db-c0e0068b1c06",
   "metadata": {},
   "source": [
    "### Gerekli Kütüphanelerin yüklenmesi"
   ]
  },
  {
   "cell_type": "markdown",
   "id": "2c22ca3c-438e-4308-93e0-0720490e0842",
   "metadata": {},
   "source": [
    "### UYGULAMA BAŞLANGICI\n",
    "Gerekli paketlerin yüklenmesi..."
   ]
  },
  {
   "cell_type": "code",
   "execution_count": 1,
   "id": "97c6f49a-ba78-485a-bd75-de0abcb5c7e6",
   "metadata": {},
   "outputs": [
    {
     "name": "stderr",
     "output_type": "stream",
     "text": [
      "2025-02-05 13:10:32.586649: E external/local_xla/xla/stream_executor/cuda/cuda_fft.cc:477] Unable to register cuFFT factory: Attempting to register factory for plugin cuFFT when one has already been registered\n",
      "WARNING: All log messages before absl::InitializeLog() is called are written to STDERR\n",
      "E0000 00:00:1738750232.606646    9454 cuda_dnn.cc:8310] Unable to register cuDNN factory: Attempting to register factory for plugin cuDNN when one has already been registered\n",
      "E0000 00:00:1738750232.612228    9454 cuda_blas.cc:1418] Unable to register cuBLAS factory: Attempting to register factory for plugin cuBLAS when one has already been registered\n",
      "2025-02-05 13:10:32.631550: I tensorflow/core/platform/cpu_feature_guard.cc:210] This TensorFlow binary is optimized to use available CPU instructions in performance-critical operations.\n",
      "To enable the following instructions: AVX2 FMA, in other operations, rebuild TensorFlow with the appropriate compiler flags.\n"
     ]
    }
   ],
   "source": [
    "import numpy as np\n",
    "import pandas as pd\n",
    "import matplotlib.pyplot as plt\n",
    "%matplotlib inline\n",
    "\n",
    "import tensorflow as tf\n",
    "from tensorflow.keras.models import Sequential, Model, model_from_json\n",
    "from tensorflow.keras.layers import Dense, Conv2D, Activation, MaxPool2D, Flatten, Dropout, BatchNormalization\n",
    "from tensorflow.python.keras.utils import np_utils\n",
    "from tensorflow.keras.preprocessing import image\n",
    "from tensorflow.keras.callbacks import ModelCheckpoint"
   ]
  },
  {
   "cell_type": "markdown",
   "id": "a86a7082-0946-41df-9d2a-3722442d72fa",
   "metadata": {},
   "source": [
    "### Veri setinin okunması"
   ]
  },
  {
   "cell_type": "raw",
   "id": "a92c18b3-c9ff-47c2-b7aa-d6426ad3af25",
   "metadata": {},
   "source": [
    "import kagglehub\n",
    "\n",
    "# Download latest version\n",
    "path = kagglehub.dataset_download(\"yusufkorayhasdemir/fer2013csv\")\n",
    "\n",
    "print(\"Path to dataset files:\", path)"
   ]
  },
  {
   "cell_type": "code",
   "execution_count": null,
   "id": "c7d07195-2ad0-4377-a604-07cfe4c15dc4",
   "metadata": {},
   "outputs": [],
   "source": []
  },
  {
   "cell_type": "code",
   "execution_count": 2,
   "id": "d8df877b-16cf-4977-9f60-19e4978d6654",
   "metadata": {},
   "outputs": [
    {
     "name": "stdout",
     "output_type": "stream",
     "text": [
      "total 619448\n",
      "-rw-r--r-- 1 dilaver dilaver     21007 Feb  3 13:09 01-Keras_Minst.ipynb\n",
      "-rw-r--r-- 1 dilaver dilaver     15011 Feb  3 13:06 02-Kaydedilmis_Modelden_Tahmin.ipynb\n",
      "-rw-r--r-- 1 dilaver dilaver    471470 Feb  3 13:06 03-Aktivasyon_Fonksiyonlari.ipynb\n",
      "-rw-r--r-- 1 dilaver dilaver     32826 Feb  3 13:06 04-Evrisimli_Sinir_Agi_Modelleme.ipynb\n",
      "-rw-r--r-- 1 dilaver dilaver    105771 Feb  3 13:06 05-Rakam_Tanima.ipynb\n",
      "-rw-r--r-- 1 dilaver dilaver    114915 Feb  3 13:06 06-FASHION_MNIST.ipynb\n",
      "-rw-r--r-- 1 dilaver dilaver    356734 Feb  3 13:06 07-FASHIONMNIST_Tahmin.ipynb\n",
      "-rw-r--r-- 1 dilaver dilaver    117594 Feb  3 13:06 08-IMAGENET-VGG16-ile-NESNE_TANIMA.ipynb\n",
      "-rw-r--r-- 1 dilaver dilaver    882065 Feb  3 13:21 09-IMAGENET-ResNet50-ile-NESNE_TANIMA.ipynb\n",
      "-rw-r--r-- 1 dilaver dilaver    148829 Feb  5 13:09 10-DUYGU_TANIMA.ipynb\n",
      "-rw-r--r-- 1 dilaver dilaver     50392 Feb  3 15:46 Model_Gorseli.png\n",
      "-rw-r--r-- 1 dilaver dilaver         0 Feb  3 15:47 Model_Görseli.png:Zone.Identifier\n",
      "-rw-r--r-- 1 dilaver dilaver    243778 Feb  4 15:40 _10-DUYGU_TANIMA.ipynb\n",
      "-rw-r--r-- 1 dilaver dilaver   4174231 Feb  5 11:46 face_model.keras\n",
      "-rw-r--r-- 1 dilaver dilaver   4174207 Feb  4 14:53 face_model_h5.keras\n",
      "-rw-r--r-- 1 dilaver dilaver    728013 Feb  3 13:06 fashion_model.keras\n",
      "-rw-r--r-- 1 dilaver dilaver 101279992 Feb  4 07:47 fer-2013.csv\n",
      "-rw-r--r-- 1 dilaver dilaver         0 Feb  4 07:47 fer-2013.csv:Zone.Identifier\n",
      "-rw-r--r-- 1 dilaver dilaver 101279992 Feb  4 07:48 fer-2013_.csv\n",
      "-rw-r--r-- 1 dilaver dilaver         0 Feb  4 07:49 fer-2013_.csv:Zone.Identifier\n",
      "drwxr-xr-x 3 dilaver dilaver      4096 Feb  4 07:49 fer2013\n",
      "-rw-r--r-- 1 dilaver dilaver 301072766 Jul 11  2013 fer2013.csv\n",
      "-rw-r--r-- 1 dilaver dilaver         0 Feb  4 07:50 fer2013.csv:Zone.Identifier\n",
      "-rw-r--r-- 1 dilaver dilaver  96433867 Feb  4 07:48 fer2013.tar.gz\n",
      "-rw-r--r-- 1 dilaver dilaver         0 Feb  4 07:48 fer2013.tar.gz:Zone.Identifier\n",
      "-rw-r--r-- 1 dilaver dilaver   9636752 Feb  3 13:07 mnist_model.h5\n",
      "-rw-r--r-- 1 dilaver dilaver   9636115 Feb  3 13:07 mnist_model.keras\n",
      "-rw-r--r-- 1 dilaver dilaver   3275701 Feb  3 13:10 mnist_model1.keras\n"
     ]
    }
   ],
   "source": [
    "import os\n",
    "root = '/home/dilaver/Keras_ile_Derin_Ogrenme'\n",
    "\n",
    "os.chdir(root)\n",
    "!ls -l"
   ]
  },
  {
   "cell_type": "code",
   "execution_count": 3,
   "id": "482d3e2d-b125-42fa-8fca-002ed6d89722",
   "metadata": {},
   "outputs": [
    {
     "data": {
      "text/plain": [
       "(35887, 3)"
      ]
     },
     "execution_count": 3,
     "metadata": {},
     "output_type": "execute_result"
    }
   ],
   "source": [
    "data = pd.read_csv(root + \"/fer2013.csv\")\n",
    "data.shape"
   ]
  },
  {
   "cell_type": "code",
   "execution_count": 4,
   "id": "791fc7a2-c90a-4fec-813e-fc75a2bdd938",
   "metadata": {},
   "outputs": [
    {
     "data": {
      "text/html": [
       "<div>\n",
       "<style scoped>\n",
       "    .dataframe tbody tr th:only-of-type {\n",
       "        vertical-align: middle;\n",
       "    }\n",
       "\n",
       "    .dataframe tbody tr th {\n",
       "        vertical-align: top;\n",
       "    }\n",
       "\n",
       "    .dataframe thead th {\n",
       "        text-align: right;\n",
       "    }\n",
       "</style>\n",
       "<table border=\"1\" class=\"dataframe\">\n",
       "  <thead>\n",
       "    <tr style=\"text-align: right;\">\n",
       "      <th></th>\n",
       "      <th>emotion</th>\n",
       "      <th>pixels</th>\n",
       "      <th>Usage</th>\n",
       "    </tr>\n",
       "  </thead>\n",
       "  <tbody>\n",
       "    <tr>\n",
       "      <th>0</th>\n",
       "      <td>0</td>\n",
       "      <td>70 80 82 72 58 58 60 63 54 58 60 48 89 115 121...</td>\n",
       "      <td>Training</td>\n",
       "    </tr>\n",
       "    <tr>\n",
       "      <th>1</th>\n",
       "      <td>0</td>\n",
       "      <td>151 150 147 155 148 133 111 140 170 174 182 15...</td>\n",
       "      <td>Training</td>\n",
       "    </tr>\n",
       "    <tr>\n",
       "      <th>2</th>\n",
       "      <td>2</td>\n",
       "      <td>231 212 156 164 174 138 161 173 182 200 106 38...</td>\n",
       "      <td>Training</td>\n",
       "    </tr>\n",
       "    <tr>\n",
       "      <th>3</th>\n",
       "      <td>4</td>\n",
       "      <td>24 32 36 30 32 23 19 20 30 41 21 22 32 34 21 1...</td>\n",
       "      <td>Training</td>\n",
       "    </tr>\n",
       "    <tr>\n",
       "      <th>4</th>\n",
       "      <td>6</td>\n",
       "      <td>4 0 0 0 0 0 0 0 0 0 0 0 3 15 23 28 48 50 58 84...</td>\n",
       "      <td>Training</td>\n",
       "    </tr>\n",
       "  </tbody>\n",
       "</table>\n",
       "</div>"
      ],
      "text/plain": [
       "   emotion                                             pixels     Usage\n",
       "0        0  70 80 82 72 58 58 60 63 54 58 60 48 89 115 121...  Training\n",
       "1        0  151 150 147 155 148 133 111 140 170 174 182 15...  Training\n",
       "2        2  231 212 156 164 174 138 161 173 182 200 106 38...  Training\n",
       "3        4  24 32 36 30 32 23 19 20 30 41 21 22 32 34 21 1...  Training\n",
       "4        6  4 0 0 0 0 0 0 0 0 0 0 0 3 15 23 28 48 50 58 84...  Training"
      ]
     },
     "execution_count": 4,
     "metadata": {},
     "output_type": "execute_result"
    }
   ],
   "source": [
    "# Verinin bir kısmını görelim\n",
    "data.head()"
   ]
  },
  {
   "cell_type": "code",
   "execution_count": 5,
   "id": "283a6e05-00ce-4215-9b8d-6433f2d15c21",
   "metadata": {},
   "outputs": [
    {
     "data": {
      "text/plain": [
       "Usage\n",
       "Training       28709\n",
       "PublicTest      3589\n",
       "PrivateTest     3589\n",
       "Name: count, dtype: int64"
      ]
     },
     "execution_count": 5,
     "metadata": {},
     "output_type": "execute_result"
    }
   ],
   "source": [
    "data[\"Usage\"].value_counts()"
   ]
  },
  {
   "cell_type": "markdown",
   "id": "d2cebea5-50bc-42eb-b966-f9e19e8f9cc5",
   "metadata": {},
   "source": [
    "**Usage** kolonunda verisetindeki örnekler kaç gruba ayrıldığını görebiliriz. <span style=\"color:blue\">Kaggle</span>da genelde bu şekilde submit sonrası asıl test edilmesi için verisetinden bir kısmını **\"PrivateTest\"** olarak ayırırlar."
   ]
  },
  {
   "cell_type": "markdown",
   "id": "5503b542-ad8b-490a-872c-384b48f3b345",
   "metadata": {},
   "source": [
    "## EĞİTİM VERİSİ İÇİN ÖN İŞLEME ADIMLARI"
   ]
  },
  {
   "cell_type": "code",
   "execution_count": 6,
   "id": "6958579e-1d87-4005-b2bf-cb8305cd7998",
   "metadata": {},
   "outputs": [
    {
     "name": "stdout",
     "output_type": "stream",
     "text": [
      "Eğitim setindeki örnek sayısı : 28709\n",
      "Eğitim setindeki PrivateTest sayısı : 3589\n",
      "Eğitim setindeki PublicTest sayısı : 3589\n"
     ]
    }
   ],
   "source": [
    "np.unique(data[\"Usage\"].values.ravel())\n",
    "print(\"Eğitim setindeki örnek sayısı : %d\"%(len(data[data.Usage ==\"Training\"])))\n",
    "print(\"Eğitim setindeki PrivateTest sayısı : %d\"%(len(data[data.Usage ==\"PrivateTest\"])))\n",
    "print(\"Eğitim setindeki PublicTest sayısı : %d\"%(len(data[data.Usage ==\"PublicTest\"])))"
   ]
  },
  {
   "cell_type": "markdown",
   "id": "257ed579-e430-4a07-a46d-75c28b2142eb",
   "metadata": {},
   "source": [
    "### Eğitim işlemi için veri kümesinde ayrılmış olan **Training** kısmını alıyoruz"
   ]
  },
  {
   "cell_type": "code",
   "execution_count": 7,
   "id": "47e25e7b-a658-42dd-b270-64b805178c5d",
   "metadata": {},
   "outputs": [],
   "source": [
    "train_data = data[data.Usage == \"Training\"] # Sadece eğitim örneklerini train_data içine aldık."
   ]
  },
  {
   "cell_type": "code",
   "execution_count": 8,
   "id": "1f2beeeb-bf93-43e0-805f-15385b3eddc4",
   "metadata": {},
   "outputs": [],
   "source": [
    "# İçi içe listelerdeki string verileri int'e dönüştürme fonksiyonu\n",
    "def convert_str_to_int(nested_list):\n",
    "    for i in range(len(nested_list)):\n",
    "        if isinstance(nested_list[i], list):  # Eğer öğe bir liste ise\n",
    "            nested_list[i] = convert_str_to_int(nested_list[i])  # Rekürsif olarak iç listeyi dönüştür\n",
    "        elif isinstance(nested_list[i], str):  # Eğer öğe bir string ise\n",
    "            try:\n",
    "                nested_list[i] = int(nested_list[i])  # String'i int'e dönüştür\n",
    "            except ValueError:\n",
    "                pass  # Eğer dönüşüm başarısızsa, değişiklik yapma\n",
    "    return nested_list"
   ]
  },
  {
   "cell_type": "code",
   "execution_count": 9,
   "id": "dd91beb6-51fa-4595-829c-44aa09434c9c",
   "metadata": {},
   "outputs": [
    {
     "name": "stdout",
     "output_type": "stream",
     "text": [
      "Orijinal Liste: [['1', '2', '3'], ['4', '5'], ['6', '7', '8']]\n",
      "Dönüştürülmüş Liste: [[1, 2, 3], [4, 5], [6, 7, 8]]\n"
     ]
    }
   ],
   "source": [
    "# Örnek iç içe liste\n",
    "nested_list = [['1', '2', '3'], ['4', '5'], ['6', '7', '8']]\n",
    "print(\"Orijinal Liste:\", nested_list)\n",
    "\n",
    "# String değerleri integer'a dönüştürme\n",
    "converted_list = convert_str_to_int(nested_list)\n",
    "print(\"Dönüştürülmüş Liste:\", converted_list)"
   ]
  },
  {
   "cell_type": "markdown",
   "id": "0354f9b7-2027-4fe2-a301-dbd4c91a0928",
   "metadata": {},
   "source": [
    "**Eğitim örneklerinin piksel değerleri bize tablo halinde yan yana verildiği için boşluklardan parse ederek liste olarak değişkene alalım.**"
   ]
  },
  {
   "cell_type": "code",
   "execution_count": 10,
   "id": "0dcbf203-a089-49c9-a3e2-53ad89357dda",
   "metadata": {},
   "outputs": [
    {
     "name": "stdout",
     "output_type": "stream",
     "text": [
      "[[ 70.  80.  82. ... 106. 109.  82.]\n",
      " [151. 150. 147. ... 193. 183. 184.]\n",
      " [231. 212. 156. ...  88. 110. 152.]\n",
      " ...\n",
      " [ 74.  81.  87. ... 188. 187. 187.]\n",
      " [222. 227. 203. ... 136. 136. 134.]\n",
      " [195. 199. 205. ...   6.  15.  38.]]\n",
      "(28709, 2304)\n"
     ]
    }
   ],
   "source": [
    "# 'pixels' sütunundaki verileri listeye dönüştür\n",
    "train_pixels = train_data.pixels.str.split(\" \").tolist()\n",
    "\n",
    "train_pixels = convert_str_to_int(train_pixels)\n",
    "train_pixels = pd.DataFrame(train_pixels, dtype=int)\n",
    "train_images = train_pixels.values\n",
    "train_images = train_images.astype(np.float16)\n",
    "\n",
    "print(train_images)\n",
    "print(train_images.shape)"
   ]
  },
  {
   "cell_type": "code",
   "execution_count": 11,
   "id": "c0cccc83-6951-4ac8-88d9-c7f2ab3d73da",
   "metadata": {},
   "outputs": [],
   "source": [
    "#Görüntüyü 48x48 piksel şeklinde göstermek için fonksiyon tanımlama\n",
    "def show(img):\n",
    "    show_image = img.reshape(48, 48)\n",
    "\n",
    "    plt.axis('off')\n",
    "    plt.imshow(show_image, cmap=\"gray\")"
   ]
  },
  {
   "cell_type": "code",
   "execution_count": 12,
   "id": "0c24f83b-d883-4786-a026-f3adf44f600a",
   "metadata": {},
   "outputs": [
    {
     "data": {
      "image/png": "[encoded data removed]",
      "text/plain": [
       "<Figure size 640x480 with 1 Axes>"
      ]
     },
     "metadata": {},
     "output_type": "display_data"
    }
   ],
   "source": [
    "# Veri kümesinden \n",
    "show(train_images[445])"
   ]
  },
  {
   "cell_type": "markdown",
   "id": "2646b4a9-35d0-40e4-adc9-2825d7e6baa1",
   "metadata": {},
   "source": [
    "**Eğitim kümesinde kaç sınıf bulunuyor bunu görelim**"
   ]
  },
  {
   "cell_type": "code",
   "execution_count": 13,
   "id": "27ac4d20-3291-48a7-a9ef-44868c11d7d6",
   "metadata": {},
   "outputs": [
    {
     "name": "stdout",
     "output_type": "stream",
     "text": [
      "Farklı yüz ifadelerinin sayısı: 7\n"
     ]
    }
   ],
   "source": [
    "train_label_flat = train_data[\"emotion\"].values.ravel()\n",
    "train_labels_count = np.unique(train_label_flat).shape[0]\n",
    "print(\"Farklı yüz ifadelerinin sayısı: %d\"%train_labels_count)"
   ]
  },
  {
   "cell_type": "markdown",
   "id": "860d60cb-b335-44f7-a443-52760475aac4",
   "metadata": {},
   "source": [
    "**One Hot ile eğitim kümesindeki verilerin her birine düşen sınıfı yani eğitim işlemi boyutunu görelim.**"
   ]
  },
  {
   "cell_type": "code",
   "execution_count": 14,
   "id": "ea65a3f6-1351-4ff9-93f5-7312f334cb8a",
   "metadata": {},
   "outputs": [],
   "source": [
    "def dense_to_one_hot(labels_dense, num_classes):\n",
    "    num_labels = labels_dense.shape[0]\n",
    "    index_offset = np.arange(num_labels) * num_classes\n",
    "    labels_one_hot = np.zeros((num_labels, num_classes))\n",
    "    labels_one_hot.flat[index_offset + labels_dense.ravel()] = 1\n",
    "    return labels_one_hot"
   ]
  },
  {
   "cell_type": "code",
   "execution_count": 15,
   "id": "638b0484-a6cc-4e6c-8454-94c45f592a05",
   "metadata": {},
   "outputs": [
    {
     "name": "stdout",
     "output_type": "stream",
     "text": [
      "(28709, 7)\n"
     ]
    }
   ],
   "source": [
    "y_train = dense_to_one_hot(train_label_flat, train_labels_count)\n",
    "y_train = y_train.astype(np.uint8)\n",
    "print(y_train.shape)"
   ]
  },
  {
   "cell_type": "markdown",
   "id": "938bec3a-b5a4-4429-bd30-e6ae76a1b28a",
   "metadata": {},
   "source": [
    "## TEST VERİSİ ÖN İŞLEME ADIMLARI"
   ]
  },
  {
   "cell_type": "code",
   "execution_count": 16,
   "id": "b928412f-083c-4bfd-9313-bb9afc90b0a8",
   "metadata": {},
   "outputs": [
    {
     "name": "stdout",
     "output_type": "stream",
     "text": [
      "Eğitim setindeki PublicTest sayısı : 3589\n"
     ]
    }
   ],
   "source": [
    "np.unique(data[\"Usage\"].values.ravel())\n",
    "print(\"Eğitim setindeki PublicTest sayısı : %d\"%(len(data[data.Usage ==\"PublicTest\"])))"
   ]
  },
  {
   "cell_type": "markdown",
   "id": "41fc7628-8a37-4858-820e-e64f1c0de122",
   "metadata": {},
   "source": [
    "### Eğitim işlemi için veri kümesinde ayrılmış olan **PublicTest** kısmını alıyoruz."
   ]
  },
  {
   "cell_type": "code",
   "execution_count": 17,
   "id": "f3fdb2ce-b730-4e2d-9397-cc814c5a68c9",
   "metadata": {},
   "outputs": [
    {
     "name": "stdout",
     "output_type": "stream",
     "text": [
      "(3589, 2304)\n"
     ]
    }
   ],
   "source": [
    "test_data = data[data.Usage == \"PublicTest\"] # Sadece eğitim örneklerini train_data içine aldık.\n",
    "#Test örneklerinin piksel değerleri bize tablo halinde yan yana verildiği için boşluklardan parse ederek liste olarak değişkene aldık\n",
    "test_pixels = test_data.pixels.str.split(\" \").tolist() \n",
    "\n",
    "test_pixels = convert_str_to_int(test_pixels)\n",
    "test_pixels = pd.DataFrame(test_pixels, dtype=int)\n",
    "test_images = test_pixels.values\n",
    "test_images = test_images.astype(np.float16)\n",
    "\n",
    "#print(test_images)\n",
    "\n",
    "print(test_images.shape)\n",
    "\n",
    "# test örneklerinin piksel değerleri bize tablo halinde yan yana verildiği için \n",
    "# boşluklardan parse ederek liste olarak değişkene aldık"
   ]
  },
  {
   "cell_type": "code",
   "execution_count": 18,
   "id": "ea6e8353-0b05-4b58-a3ec-58679d3b55f3",
   "metadata": {},
   "outputs": [
    {
     "data": {
      "image/png": "[encoded data removed]",
      "text/plain": [
       "<Figure size 640x480 with 1 Axes>"
      ]
     },
     "metadata": {},
     "output_type": "display_data"
    }
   ],
   "source": [
    "show(test_images[890])"
   ]
  },
  {
   "cell_type": "markdown",
   "id": "e5debc7d-2044-4f02-bbb9-dd1a292d6793",
   "metadata": {},
   "source": [
    "**One Hot ile test kümesindeki verilerin her birine düşen sınıfı yani eğitim işlemi boyutunu görelim.**"
   ]
  },
  {
   "cell_type": "code",
   "execution_count": 19,
   "id": "26c17a5e-4a5a-4596-8a43-66e4a71f0ea0",
   "metadata": {},
   "outputs": [
    {
     "name": "stdout",
     "output_type": "stream",
     "text": [
      "(3589, 7)\n"
     ]
    }
   ],
   "source": [
    "test_labels_flat = test_data[\"emotion\"].values.ravel()\n",
    "test_labels_count = np.unique(test_labels_flat).shape[0]\n",
    "\n",
    "y_test = dense_to_one_hot(test_labels_flat, test_labels_count)\n",
    "\n",
    "y_test = y_test.astype(np.uint8)\n",
    "print(y_test.shape)"
   ]
  },
  {
   "cell_type": "markdown",
   "id": "121337ae-9402-405a-a287-09f9414a0b4b",
   "metadata": {},
   "source": [
    "### TEST KÜMESİNDEN ÖRNEK GÖRÜNTÜLER"
   ]
  },
  {
   "cell_type": "code",
   "execution_count": 20,
   "id": "6a38823b-4cc9-4599-abf6-2242b2bb2439",
   "metadata": {},
   "outputs": [
    {
     "data": {
      "image/png": "[encoded data removed]",
      "text/plain": [
       "<Figure size 1200x600 with 12 Axes>"
      ]
     },
     "metadata": {},
     "output_type": "display_data"
    }
   ],
   "source": [
    "plt.figure(0, figsize=(12,6))\n",
    "for i in range (1,13):\n",
    "    plt.subplot(3,4, i)\n",
    "    plt.axis(\"off\")\n",
    "\n",
    "    image = test_images[i].reshape(48,48)\n",
    "    plt.imshow(image, cmap=\"gray\")\n",
    "\n",
    "plt.tight_layout()\n",
    "plt.show()"
   ]
  },
  {
   "cell_type": "markdown",
   "id": "f92665ad-6875-4be8-9a16-320df82ec2bd",
   "metadata": {},
   "source": [
    "## DERİN EVRİŞİMLİ SİNİR AĞI MODELİ TANIMLANMASI"
   ]
  },
  {
   "cell_type": "markdown",
   "id": "8b1e7e43-8d59-4369-9c0e-9f6dea2b5d35",
   "metadata": {},
   "source": [
    "**Kullandığımız modeli Göreselleştirirsek :**\n",
    "![Model](http://localhost:8888/files/Keras_ile_Derin_Ogrenme/Model_Gorseli.png?_xsrf=2%7C0bdc9822%7C5145e3bb72535dd692d20e4114767785%7C1738577067)"
   ]
  },
  {
   "cell_type": "markdown",
   "id": "80518e13-7a40-4e47-84c9-19500f9f8dbd",
   "metadata": {},
   "source": [
    "**Görseldeki modeli yazalım :**"
   ]
  },
  {
   "cell_type": "code",
   "execution_count": 21,
   "id": "9f69e02d-74aa-44ef-b406-55a27ce4d425",
   "metadata": {},
   "outputs": [
    {
     "name": "stderr",
     "output_type": "stream",
     "text": [
      "/home/dilaver/tf_env/lib/python3.12/site-packages/keras/src/layers/convolutional/base_conv.py:107: UserWarning: Do not pass an `input_shape`/`input_dim` argument to a layer. When using Sequential models, prefer using an `Input(shape)` object as the first layer in the model instead.\n",
      "  super().__init__(activity_regularizer=activity_regularizer, **kwargs)\n",
      "I0000 00:00:1738750276.276129    9454 gpu_device.cc:2022] Created device /job:localhost/replica:0/task:0/device:GPU:0 with 6634 MB memory:  -> device: 0, name: NVIDIA GeForce GTX 1070, pci bus id: 0000:01:00.0, compute capability: 6.1\n",
      "I0000 00:00:1738750276.281114    9454 gpu_device.cc:2022] Created device /job:localhost/replica:0/task:0/device:GPU:1 with 6634 MB memory:  -> device: 1, name: NVIDIA GeForce GTX 1070, pci bus id: 0000:02:00.0, compute capability: 6.1\n"
     ]
    },
    {
     "data": {
      "text/html": [
       "<pre style=\"white-space:pre;overflow-x:auto;line-height:normal;font-family:Menlo,'DejaVu Sans Mono',consolas,'Courier New',monospace\"><span style=\"font-weight: bold\">Model: \"sequential\"</span>\n",
       "</pre>\n"
      ],
      "text/plain": [
       "\u001b[1mModel: \"sequential\"\u001b[0m\n"
      ]
     },
     "metadata": {},
     "output_type": "display_data"
    },
    {
     "data": {
      "text/html": [
       "<pre style=\"white-space:pre;overflow-x:auto;line-height:normal;font-family:Menlo,'DejaVu Sans Mono',consolas,'Courier New',monospace\">┏━━━━━━━━━━━━━━━━━━━━━━━━━━━━━━━━━┳━━━━━━━━━━━━━━━━━━━━━━━━┳━━━━━━━━━━━━━━━┓\n",
       "┃<span style=\"font-weight: bold\"> Layer (type)                    </span>┃<span style=\"font-weight: bold\"> Output Shape           </span>┃<span style=\"font-weight: bold\">       Param # </span>┃\n",
       "┡━━━━━━━━━━━━━━━━━━━━━━━━━━━━━━━━━╇━━━━━━━━━━━━━━━━━━━━━━━━╇━━━━━━━━━━━━━━━┩\n",
       "│ conv2d (<span style=\"color: #0087ff; text-decoration-color: #0087ff\">Conv2D</span>)                 │ (<span style=\"color: #00d7ff; text-decoration-color: #00d7ff\">None</span>, <span style=\"color: #00af00; text-decoration-color: #00af00\">46</span>, <span style=\"color: #00af00; text-decoration-color: #00af00\">46</span>, <span style=\"color: #00af00; text-decoration-color: #00af00\">64</span>)     │           <span style=\"color: #00af00; text-decoration-color: #00af00\">640</span> │\n",
       "├─────────────────────────────────┼────────────────────────┼───────────────┤\n",
       "│ batch_normalization             │ (<span style=\"color: #00d7ff; text-decoration-color: #00d7ff\">None</span>, <span style=\"color: #00af00; text-decoration-color: #00af00\">46</span>, <span style=\"color: #00af00; text-decoration-color: #00af00\">46</span>, <span style=\"color: #00af00; text-decoration-color: #00af00\">64</span>)     │           <span style=\"color: #00af00; text-decoration-color: #00af00\">256</span> │\n",
       "│ (<span style=\"color: #0087ff; text-decoration-color: #0087ff\">BatchNormalization</span>)            │                        │               │\n",
       "├─────────────────────────────────┼────────────────────────┼───────────────┤\n",
       "│ activation (<span style=\"color: #0087ff; text-decoration-color: #0087ff\">Activation</span>)         │ (<span style=\"color: #00d7ff; text-decoration-color: #00d7ff\">None</span>, <span style=\"color: #00af00; text-decoration-color: #00af00\">46</span>, <span style=\"color: #00af00; text-decoration-color: #00af00\">46</span>, <span style=\"color: #00af00; text-decoration-color: #00af00\">64</span>)     │             <span style=\"color: #00af00; text-decoration-color: #00af00\">0</span> │\n",
       "├─────────────────────────────────┼────────────────────────┼───────────────┤\n",
       "│ conv2d_1 (<span style=\"color: #0087ff; text-decoration-color: #0087ff\">Conv2D</span>)               │ (<span style=\"color: #00d7ff; text-decoration-color: #00d7ff\">None</span>, <span style=\"color: #00af00; text-decoration-color: #00af00\">44</span>, <span style=\"color: #00af00; text-decoration-color: #00af00\">44</span>, <span style=\"color: #00af00; text-decoration-color: #00af00\">64</span>)     │        <span style=\"color: #00af00; text-decoration-color: #00af00\">36,928</span> │\n",
       "├─────────────────────────────────┼────────────────────────┼───────────────┤\n",
       "│ batch_normalization_1           │ (<span style=\"color: #00d7ff; text-decoration-color: #00d7ff\">None</span>, <span style=\"color: #00af00; text-decoration-color: #00af00\">44</span>, <span style=\"color: #00af00; text-decoration-color: #00af00\">44</span>, <span style=\"color: #00af00; text-decoration-color: #00af00\">64</span>)     │           <span style=\"color: #00af00; text-decoration-color: #00af00\">256</span> │\n",
       "│ (<span style=\"color: #0087ff; text-decoration-color: #0087ff\">BatchNormalization</span>)            │                        │               │\n",
       "├─────────────────────────────────┼────────────────────────┼───────────────┤\n",
       "│ activation_1 (<span style=\"color: #0087ff; text-decoration-color: #0087ff\">Activation</span>)       │ (<span style=\"color: #00d7ff; text-decoration-color: #00d7ff\">None</span>, <span style=\"color: #00af00; text-decoration-color: #00af00\">44</span>, <span style=\"color: #00af00; text-decoration-color: #00af00\">44</span>, <span style=\"color: #00af00; text-decoration-color: #00af00\">64</span>)     │             <span style=\"color: #00af00; text-decoration-color: #00af00\">0</span> │\n",
       "├─────────────────────────────────┼────────────────────────┼───────────────┤\n",
       "│ max_pooling2d (<span style=\"color: #0087ff; text-decoration-color: #0087ff\">MaxPooling2D</span>)    │ (<span style=\"color: #00d7ff; text-decoration-color: #00d7ff\">None</span>, <span style=\"color: #00af00; text-decoration-color: #00af00\">22</span>, <span style=\"color: #00af00; text-decoration-color: #00af00\">22</span>, <span style=\"color: #00af00; text-decoration-color: #00af00\">64</span>)     │             <span style=\"color: #00af00; text-decoration-color: #00af00\">0</span> │\n",
       "├─────────────────────────────────┼────────────────────────┼───────────────┤\n",
       "│ dropout (<span style=\"color: #0087ff; text-decoration-color: #0087ff\">Dropout</span>)               │ (<span style=\"color: #00d7ff; text-decoration-color: #00d7ff\">None</span>, <span style=\"color: #00af00; text-decoration-color: #00af00\">22</span>, <span style=\"color: #00af00; text-decoration-color: #00af00\">22</span>, <span style=\"color: #00af00; text-decoration-color: #00af00\">64</span>)     │             <span style=\"color: #00af00; text-decoration-color: #00af00\">0</span> │\n",
       "├─────────────────────────────────┼────────────────────────┼───────────────┤\n",
       "│ conv2d_2 (<span style=\"color: #0087ff; text-decoration-color: #0087ff\">Conv2D</span>)               │ (<span style=\"color: #00d7ff; text-decoration-color: #00d7ff\">None</span>, <span style=\"color: #00af00; text-decoration-color: #00af00\">20</span>, <span style=\"color: #00af00; text-decoration-color: #00af00\">20</span>, <span style=\"color: #00af00; text-decoration-color: #00af00\">32</span>)     │        <span style=\"color: #00af00; text-decoration-color: #00af00\">18,464</span> │\n",
       "├─────────────────────────────────┼────────────────────────┼───────────────┤\n",
       "│ batch_normalization_2           │ (<span style=\"color: #00d7ff; text-decoration-color: #00d7ff\">None</span>, <span style=\"color: #00af00; text-decoration-color: #00af00\">20</span>, <span style=\"color: #00af00; text-decoration-color: #00af00\">20</span>, <span style=\"color: #00af00; text-decoration-color: #00af00\">32</span>)     │           <span style=\"color: #00af00; text-decoration-color: #00af00\">128</span> │\n",
       "│ (<span style=\"color: #0087ff; text-decoration-color: #0087ff\">BatchNormalization</span>)            │                        │               │\n",
       "├─────────────────────────────────┼────────────────────────┼───────────────┤\n",
       "│ activation_2 (<span style=\"color: #0087ff; text-decoration-color: #0087ff\">Activation</span>)       │ (<span style=\"color: #00d7ff; text-decoration-color: #00d7ff\">None</span>, <span style=\"color: #00af00; text-decoration-color: #00af00\">20</span>, <span style=\"color: #00af00; text-decoration-color: #00af00\">20</span>, <span style=\"color: #00af00; text-decoration-color: #00af00\">32</span>)     │             <span style=\"color: #00af00; text-decoration-color: #00af00\">0</span> │\n",
       "├─────────────────────────────────┼────────────────────────┼───────────────┤\n",
       "│ conv2d_3 (<span style=\"color: #0087ff; text-decoration-color: #0087ff\">Conv2D</span>)               │ (<span style=\"color: #00d7ff; text-decoration-color: #00d7ff\">None</span>, <span style=\"color: #00af00; text-decoration-color: #00af00\">18</span>, <span style=\"color: #00af00; text-decoration-color: #00af00\">18</span>, <span style=\"color: #00af00; text-decoration-color: #00af00\">32</span>)     │         <span style=\"color: #00af00; text-decoration-color: #00af00\">9,248</span> │\n",
       "├─────────────────────────────────┼────────────────────────┼───────────────┤\n",
       "│ batch_normalization_3           │ (<span style=\"color: #00d7ff; text-decoration-color: #00d7ff\">None</span>, <span style=\"color: #00af00; text-decoration-color: #00af00\">18</span>, <span style=\"color: #00af00; text-decoration-color: #00af00\">18</span>, <span style=\"color: #00af00; text-decoration-color: #00af00\">32</span>)     │           <span style=\"color: #00af00; text-decoration-color: #00af00\">128</span> │\n",
       "│ (<span style=\"color: #0087ff; text-decoration-color: #0087ff\">BatchNormalization</span>)            │                        │               │\n",
       "├─────────────────────────────────┼────────────────────────┼───────────────┤\n",
       "│ activation_3 (<span style=\"color: #0087ff; text-decoration-color: #0087ff\">Activation</span>)       │ (<span style=\"color: #00d7ff; text-decoration-color: #00d7ff\">None</span>, <span style=\"color: #00af00; text-decoration-color: #00af00\">18</span>, <span style=\"color: #00af00; text-decoration-color: #00af00\">18</span>, <span style=\"color: #00af00; text-decoration-color: #00af00\">32</span>)     │             <span style=\"color: #00af00; text-decoration-color: #00af00\">0</span> │\n",
       "├─────────────────────────────────┼────────────────────────┼───────────────┤\n",
       "│ conv2d_4 (<span style=\"color: #0087ff; text-decoration-color: #0087ff\">Conv2D</span>)               │ (<span style=\"color: #00d7ff; text-decoration-color: #00d7ff\">None</span>, <span style=\"color: #00af00; text-decoration-color: #00af00\">16</span>, <span style=\"color: #00af00; text-decoration-color: #00af00\">16</span>, <span style=\"color: #00af00; text-decoration-color: #00af00\">32</span>)     │         <span style=\"color: #00af00; text-decoration-color: #00af00\">9,248</span> │\n",
       "├─────────────────────────────────┼────────────────────────┼───────────────┤\n",
       "│ batch_normalization_4           │ (<span style=\"color: #00d7ff; text-decoration-color: #00d7ff\">None</span>, <span style=\"color: #00af00; text-decoration-color: #00af00\">16</span>, <span style=\"color: #00af00; text-decoration-color: #00af00\">16</span>, <span style=\"color: #00af00; text-decoration-color: #00af00\">32</span>)     │           <span style=\"color: #00af00; text-decoration-color: #00af00\">128</span> │\n",
       "│ (<span style=\"color: #0087ff; text-decoration-color: #0087ff\">BatchNormalization</span>)            │                        │               │\n",
       "├─────────────────────────────────┼────────────────────────┼───────────────┤\n",
       "│ activation_4 (<span style=\"color: #0087ff; text-decoration-color: #0087ff\">Activation</span>)       │ (<span style=\"color: #00d7ff; text-decoration-color: #00d7ff\">None</span>, <span style=\"color: #00af00; text-decoration-color: #00af00\">16</span>, <span style=\"color: #00af00; text-decoration-color: #00af00\">16</span>, <span style=\"color: #00af00; text-decoration-color: #00af00\">32</span>)     │             <span style=\"color: #00af00; text-decoration-color: #00af00\">0</span> │\n",
       "├─────────────────────────────────┼────────────────────────┼───────────────┤\n",
       "│ max_pooling2d_1 (<span style=\"color: #0087ff; text-decoration-color: #0087ff\">MaxPooling2D</span>)  │ (<span style=\"color: #00d7ff; text-decoration-color: #00d7ff\">None</span>, <span style=\"color: #00af00; text-decoration-color: #00af00\">8</span>, <span style=\"color: #00af00; text-decoration-color: #00af00\">8</span>, <span style=\"color: #00af00; text-decoration-color: #00af00\">32</span>)       │             <span style=\"color: #00af00; text-decoration-color: #00af00\">0</span> │\n",
       "├─────────────────────────────────┼────────────────────────┼───────────────┤\n",
       "│ dropout_1 (<span style=\"color: #0087ff; text-decoration-color: #0087ff\">Dropout</span>)             │ (<span style=\"color: #00d7ff; text-decoration-color: #00d7ff\">None</span>, <span style=\"color: #00af00; text-decoration-color: #00af00\">8</span>, <span style=\"color: #00af00; text-decoration-color: #00af00\">8</span>, <span style=\"color: #00af00; text-decoration-color: #00af00\">32</span>)       │             <span style=\"color: #00af00; text-decoration-color: #00af00\">0</span> │\n",
       "├─────────────────────────────────┼────────────────────────┼───────────────┤\n",
       "│ flatten (<span style=\"color: #0087ff; text-decoration-color: #0087ff\">Flatten</span>)               │ (<span style=\"color: #00d7ff; text-decoration-color: #00d7ff\">None</span>, <span style=\"color: #00af00; text-decoration-color: #00af00\">2048</span>)           │             <span style=\"color: #00af00; text-decoration-color: #00af00\">0</span> │\n",
       "├─────────────────────────────────┼────────────────────────┼───────────────┤\n",
       "│ dense (<span style=\"color: #0087ff; text-decoration-color: #0087ff\">Dense</span>)                   │ (<span style=\"color: #00d7ff; text-decoration-color: #00d7ff\">None</span>, <span style=\"color: #00af00; text-decoration-color: #00af00\">128</span>)            │       <span style=\"color: #00af00; text-decoration-color: #00af00\">262,272</span> │\n",
       "├─────────────────────────────────┼────────────────────────┼───────────────┤\n",
       "│ batch_normalization_5           │ (<span style=\"color: #00d7ff; text-decoration-color: #00d7ff\">None</span>, <span style=\"color: #00af00; text-decoration-color: #00af00\">128</span>)            │           <span style=\"color: #00af00; text-decoration-color: #00af00\">512</span> │\n",
       "│ (<span style=\"color: #0087ff; text-decoration-color: #0087ff\">BatchNormalization</span>)            │                        │               │\n",
       "├─────────────────────────────────┼────────────────────────┼───────────────┤\n",
       "│ activation_5 (<span style=\"color: #0087ff; text-decoration-color: #0087ff\">Activation</span>)       │ (<span style=\"color: #00d7ff; text-decoration-color: #00d7ff\">None</span>, <span style=\"color: #00af00; text-decoration-color: #00af00\">128</span>)            │             <span style=\"color: #00af00; text-decoration-color: #00af00\">0</span> │\n",
       "├─────────────────────────────────┼────────────────────────┼───────────────┤\n",
       "│ dropout_2 (<span style=\"color: #0087ff; text-decoration-color: #0087ff\">Dropout</span>)             │ (<span style=\"color: #00d7ff; text-decoration-color: #00d7ff\">None</span>, <span style=\"color: #00af00; text-decoration-color: #00af00\">128</span>)            │             <span style=\"color: #00af00; text-decoration-color: #00af00\">0</span> │\n",
       "├─────────────────────────────────┼────────────────────────┼───────────────┤\n",
       "│ dense_1 (<span style=\"color: #0087ff; text-decoration-color: #0087ff\">Dense</span>)                 │ (<span style=\"color: #00d7ff; text-decoration-color: #00d7ff\">None</span>, <span style=\"color: #00af00; text-decoration-color: #00af00\">7</span>)              │           <span style=\"color: #00af00; text-decoration-color: #00af00\">903</span> │\n",
       "├─────────────────────────────────┼────────────────────────┼───────────────┤\n",
       "│ activation_6 (<span style=\"color: #0087ff; text-decoration-color: #0087ff\">Activation</span>)       │ (<span style=\"color: #00d7ff; text-decoration-color: #00d7ff\">None</span>, <span style=\"color: #00af00; text-decoration-color: #00af00\">7</span>)              │             <span style=\"color: #00af00; text-decoration-color: #00af00\">0</span> │\n",
       "└─────────────────────────────────┴────────────────────────┴───────────────┘\n",
       "</pre>\n"
      ],
      "text/plain": [
       "┏━━━━━━━━━━━━━━━━━━━━━━━━━━━━━━━━━┳━━━━━━━━━━━━━━━━━━━━━━━━┳━━━━━━━━━━━━━━━┓\n",
       "┃\u001b[1m \u001b[0m\u001b[1mLayer (type)                   \u001b[0m\u001b[1m \u001b[0m┃\u001b[1m \u001b[0m\u001b[1mOutput Shape          \u001b[0m\u001b[1m \u001b[0m┃\u001b[1m \u001b[0m\u001b[1m      Param #\u001b[0m\u001b[1m \u001b[0m┃\n",
       "┡━━━━━━━━━━━━━━━━━━━━━━━━━━━━━━━━━╇━━━━━━━━━━━━━━━━━━━━━━━━╇━━━━━━━━━━━━━━━┩\n",
       "│ conv2d (\u001b[38;5;33mConv2D\u001b[0m)                 │ (\u001b[38;5;45mNone\u001b[0m, \u001b[38;5;34m46\u001b[0m, \u001b[38;5;34m46\u001b[0m, \u001b[38;5;34m64\u001b[0m)     │           \u001b[38;5;34m640\u001b[0m │\n",
       "├─────────────────────────────────┼────────────────────────┼───────────────┤\n",
       "│ batch_normalization             │ (\u001b[38;5;45mNone\u001b[0m, \u001b[38;5;34m46\u001b[0m, \u001b[38;5;34m46\u001b[0m, \u001b[38;5;34m64\u001b[0m)     │           \u001b[38;5;34m256\u001b[0m │\n",
       "│ (\u001b[38;5;33mBatchNormalization\u001b[0m)            │                        │               │\n",
       "├─────────────────────────────────┼────────────────────────┼───────────────┤\n",
       "│ activation (\u001b[38;5;33mActivation\u001b[0m)         │ (\u001b[38;5;45mNone\u001b[0m, \u001b[38;5;34m46\u001b[0m, \u001b[38;5;34m46\u001b[0m, \u001b[38;5;34m64\u001b[0m)     │             \u001b[38;5;34m0\u001b[0m │\n",
       "├─────────────────────────────────┼────────────────────────┼───────────────┤\n",
       "│ conv2d_1 (\u001b[38;5;33mConv2D\u001b[0m)               │ (\u001b[38;5;45mNone\u001b[0m, \u001b[38;5;34m44\u001b[0m, \u001b[38;5;34m44\u001b[0m, \u001b[38;5;34m64\u001b[0m)     │        \u001b[38;5;34m36,928\u001b[0m │\n",
       "├─────────────────────────────────┼────────────────────────┼───────────────┤\n",
       "│ batch_normalization_1           │ (\u001b[38;5;45mNone\u001b[0m, \u001b[38;5;34m44\u001b[0m, \u001b[38;5;34m44\u001b[0m, \u001b[38;5;34m64\u001b[0m)     │           \u001b[38;5;34m256\u001b[0m │\n",
       "│ (\u001b[38;5;33mBatchNormalization\u001b[0m)            │                        │               │\n",
       "├─────────────────────────────────┼────────────────────────┼───────────────┤\n",
       "│ activation_1 (\u001b[38;5;33mActivation\u001b[0m)       │ (\u001b[38;5;45mNone\u001b[0m, \u001b[38;5;34m44\u001b[0m, \u001b[38;5;34m44\u001b[0m, \u001b[38;5;34m64\u001b[0m)     │             \u001b[38;5;34m0\u001b[0m │\n",
       "├─────────────────────────────────┼────────────────────────┼───────────────┤\n",
       "│ max_pooling2d (\u001b[38;5;33mMaxPooling2D\u001b[0m)    │ (\u001b[38;5;45mNone\u001b[0m, \u001b[38;5;34m22\u001b[0m, \u001b[38;5;34m22\u001b[0m, \u001b[38;5;34m64\u001b[0m)     │             \u001b[38;5;34m0\u001b[0m │\n",
       "├─────────────────────────────────┼────────────────────────┼───────────────┤\n",
       "│ dropout (\u001b[38;5;33mDropout\u001b[0m)               │ (\u001b[38;5;45mNone\u001b[0m, \u001b[38;5;34m22\u001b[0m, \u001b[38;5;34m22\u001b[0m, \u001b[38;5;34m64\u001b[0m)     │             \u001b[38;5;34m0\u001b[0m │\n",
       "├─────────────────────────────────┼────────────────────────┼───────────────┤\n",
       "│ conv2d_2 (\u001b[38;5;33mConv2D\u001b[0m)               │ (\u001b[38;5;45mNone\u001b[0m, \u001b[38;5;34m20\u001b[0m, \u001b[38;5;34m20\u001b[0m, \u001b[38;5;34m32\u001b[0m)     │        \u001b[38;5;34m18,464\u001b[0m │\n",
       "├─────────────────────────────────┼────────────────────────┼───────────────┤\n",
       "│ batch_normalization_2           │ (\u001b[38;5;45mNone\u001b[0m, \u001b[38;5;34m20\u001b[0m, \u001b[38;5;34m20\u001b[0m, \u001b[38;5;34m32\u001b[0m)     │           \u001b[38;5;34m128\u001b[0m │\n",
       "│ (\u001b[38;5;33mBatchNormalization\u001b[0m)            │                        │               │\n",
       "├─────────────────────────────────┼────────────────────────┼───────────────┤\n",
       "│ activation_2 (\u001b[38;5;33mActivation\u001b[0m)       │ (\u001b[38;5;45mNone\u001b[0m, \u001b[38;5;34m20\u001b[0m, \u001b[38;5;34m20\u001b[0m, \u001b[38;5;34m32\u001b[0m)     │             \u001b[38;5;34m0\u001b[0m │\n",
       "├─────────────────────────────────┼────────────────────────┼───────────────┤\n",
       "│ conv2d_3 (\u001b[38;5;33mConv2D\u001b[0m)               │ (\u001b[38;5;45mNone\u001b[0m, \u001b[38;5;34m18\u001b[0m, \u001b[38;5;34m18\u001b[0m, \u001b[38;5;34m32\u001b[0m)     │         \u001b[38;5;34m9,248\u001b[0m │\n",
       "├─────────────────────────────────┼────────────────────────┼───────────────┤\n",
       "│ batch_normalization_3           │ (\u001b[38;5;45mNone\u001b[0m, \u001b[38;5;34m18\u001b[0m, \u001b[38;5;34m18\u001b[0m, \u001b[38;5;34m32\u001b[0m)     │           \u001b[38;5;34m128\u001b[0m │\n",
       "│ (\u001b[38;5;33mBatchNormalization\u001b[0m)            │                        │               │\n",
       "├─────────────────────────────────┼────────────────────────┼───────────────┤\n",
       "│ activation_3 (\u001b[38;5;33mActivation\u001b[0m)       │ (\u001b[38;5;45mNone\u001b[0m, \u001b[38;5;34m18\u001b[0m, \u001b[38;5;34m18\u001b[0m, \u001b[38;5;34m32\u001b[0m)     │             \u001b[38;5;34m0\u001b[0m │\n",
       "├─────────────────────────────────┼────────────────────────┼───────────────┤\n",
       "│ conv2d_4 (\u001b[38;5;33mConv2D\u001b[0m)               │ (\u001b[38;5;45mNone\u001b[0m, \u001b[38;5;34m16\u001b[0m, \u001b[38;5;34m16\u001b[0m, \u001b[38;5;34m32\u001b[0m)     │         \u001b[38;5;34m9,248\u001b[0m │\n",
       "├─────────────────────────────────┼────────────────────────┼───────────────┤\n",
       "│ batch_normalization_4           │ (\u001b[38;5;45mNone\u001b[0m, \u001b[38;5;34m16\u001b[0m, \u001b[38;5;34m16\u001b[0m, \u001b[38;5;34m32\u001b[0m)     │           \u001b[38;5;34m128\u001b[0m │\n",
       "│ (\u001b[38;5;33mBatchNormalization\u001b[0m)            │                        │               │\n",
       "├─────────────────────────────────┼────────────────────────┼───────────────┤\n",
       "│ activation_4 (\u001b[38;5;33mActivation\u001b[0m)       │ (\u001b[38;5;45mNone\u001b[0m, \u001b[38;5;34m16\u001b[0m, \u001b[38;5;34m16\u001b[0m, \u001b[38;5;34m32\u001b[0m)     │             \u001b[38;5;34m0\u001b[0m │\n",
       "├─────────────────────────────────┼────────────────────────┼───────────────┤\n",
       "│ max_pooling2d_1 (\u001b[38;5;33mMaxPooling2D\u001b[0m)  │ (\u001b[38;5;45mNone\u001b[0m, \u001b[38;5;34m8\u001b[0m, \u001b[38;5;34m8\u001b[0m, \u001b[38;5;34m32\u001b[0m)       │             \u001b[38;5;34m0\u001b[0m │\n",
       "├─────────────────────────────────┼────────────────────────┼───────────────┤\n",
       "│ dropout_1 (\u001b[38;5;33mDropout\u001b[0m)             │ (\u001b[38;5;45mNone\u001b[0m, \u001b[38;5;34m8\u001b[0m, \u001b[38;5;34m8\u001b[0m, \u001b[38;5;34m32\u001b[0m)       │             \u001b[38;5;34m0\u001b[0m │\n",
       "├─────────────────────────────────┼────────────────────────┼───────────────┤\n",
       "│ flatten (\u001b[38;5;33mFlatten\u001b[0m)               │ (\u001b[38;5;45mNone\u001b[0m, \u001b[38;5;34m2048\u001b[0m)           │             \u001b[38;5;34m0\u001b[0m │\n",
       "├─────────────────────────────────┼────────────────────────┼───────────────┤\n",
       "│ dense (\u001b[38;5;33mDense\u001b[0m)                   │ (\u001b[38;5;45mNone\u001b[0m, \u001b[38;5;34m128\u001b[0m)            │       \u001b[38;5;34m262,272\u001b[0m │\n",
       "├─────────────────────────────────┼────────────────────────┼───────────────┤\n",
       "│ batch_normalization_5           │ (\u001b[38;5;45mNone\u001b[0m, \u001b[38;5;34m128\u001b[0m)            │           \u001b[38;5;34m512\u001b[0m │\n",
       "│ (\u001b[38;5;33mBatchNormalization\u001b[0m)            │                        │               │\n",
       "├─────────────────────────────────┼────────────────────────┼───────────────┤\n",
       "│ activation_5 (\u001b[38;5;33mActivation\u001b[0m)       │ (\u001b[38;5;45mNone\u001b[0m, \u001b[38;5;34m128\u001b[0m)            │             \u001b[38;5;34m0\u001b[0m │\n",
       "├─────────────────────────────────┼────────────────────────┼───────────────┤\n",
       "│ dropout_2 (\u001b[38;5;33mDropout\u001b[0m)             │ (\u001b[38;5;45mNone\u001b[0m, \u001b[38;5;34m128\u001b[0m)            │             \u001b[38;5;34m0\u001b[0m │\n",
       "├─────────────────────────────────┼────────────────────────┼───────────────┤\n",
       "│ dense_1 (\u001b[38;5;33mDense\u001b[0m)                 │ (\u001b[38;5;45mNone\u001b[0m, \u001b[38;5;34m7\u001b[0m)              │           \u001b[38;5;34m903\u001b[0m │\n",
       "├─────────────────────────────────┼────────────────────────┼───────────────┤\n",
       "│ activation_6 (\u001b[38;5;33mActivation\u001b[0m)       │ (\u001b[38;5;45mNone\u001b[0m, \u001b[38;5;34m7\u001b[0m)              │             \u001b[38;5;34m0\u001b[0m │\n",
       "└─────────────────────────────────┴────────────────────────┴───────────────┘\n"
      ]
     },
     "metadata": {},
     "output_type": "display_data"
    },
    {
     "data": {
      "text/html": [
       "<pre style=\"white-space:pre;overflow-x:auto;line-height:normal;font-family:Menlo,'DejaVu Sans Mono',consolas,'Courier New',monospace\"><span style=\"font-weight: bold\"> Total params: </span><span style=\"color: #00af00; text-decoration-color: #00af00\">339,111</span> (1.29 MB)\n",
       "</pre>\n"
      ],
      "text/plain": [
       "\u001b[1m Total params: \u001b[0m\u001b[38;5;34m339,111\u001b[0m (1.29 MB)\n"
      ]
     },
     "metadata": {},
     "output_type": "display_data"
    },
    {
     "data": {
      "text/html": [
       "<pre style=\"white-space:pre;overflow-x:auto;line-height:normal;font-family:Menlo,'DejaVu Sans Mono',consolas,'Courier New',monospace\"><span style=\"font-weight: bold\"> Trainable params: </span><span style=\"color: #00af00; text-decoration-color: #00af00\">338,407</span> (1.29 MB)\n",
       "</pre>\n"
      ],
      "text/plain": [
       "\u001b[1m Trainable params: \u001b[0m\u001b[38;5;34m338,407\u001b[0m (1.29 MB)\n"
      ]
     },
     "metadata": {},
     "output_type": "display_data"
    },
    {
     "data": {
      "text/html": [
       "<pre style=\"white-space:pre;overflow-x:auto;line-height:normal;font-family:Menlo,'DejaVu Sans Mono',consolas,'Courier New',monospace\"><span style=\"font-weight: bold\"> Non-trainable params: </span><span style=\"color: #00af00; text-decoration-color: #00af00\">704</span> (2.75 KB)\n",
       "</pre>\n"
      ],
      "text/plain": [
       "\u001b[1m Non-trainable params: \u001b[0m\u001b[38;5;34m704\u001b[0m (2.75 KB)\n"
      ]
     },
     "metadata": {},
     "output_type": "display_data"
    }
   ],
   "source": [
    "model = Sequential()\n",
    "\n",
    "#1. Katman :\n",
    "model.add(Conv2D(64,3, data_format=\"channels_last\", kernel_initializer=\"he_normal\", input_shape=(48,48,1)))\n",
    "model.add(BatchNormalization())\n",
    "model.add(Activation(\"relu\"))\n",
    "\n",
    "#2. Katman :\n",
    "model.add(Conv2D(64,3))\n",
    "model.add(BatchNormalization())\n",
    "model.add(Activation(\"relu\"))\n",
    "model.add(MaxPool2D(pool_size=(2,2), strides=2))\n",
    "model.add(Dropout(0.6))\n",
    "\n",
    "#3. Katman :\n",
    "model.add(Conv2D(32, 3))\n",
    "model.add(BatchNormalization())\n",
    "model.add(Activation(\"relu\"))\n",
    "\n",
    "#4. Katman :\n",
    "model.add(Conv2D(32, 3))\n",
    "model.add(BatchNormalization())\n",
    "model.add(Activation(\"relu\"))\n",
    "\n",
    "\n",
    "#5. Katman :\n",
    "model.add(Conv2D(32, 3))\n",
    "model.add(BatchNormalization())\n",
    "model.add(Activation(\"relu\"))\n",
    "model.add(MaxPool2D(pool_size=(2,2), strides=2))\n",
    "model.add(Dropout(0.6))\n",
    "\n",
    "\n",
    "#TAM BAĞLANTI KATMANI\n",
    "model.add(Flatten())\n",
    "model.add(Dense(128))\n",
    "model.add(BatchNormalization())\n",
    "model.add(Activation(\"relu\"))\n",
    "model.add(Dropout(0.6))\n",
    "\n",
    "\n",
    "#Çıkış KATMANI\n",
    "model.add(Dense(7))\n",
    "model.add(Activation(\"softmax\"))\n",
    "\n",
    "model.compile(loss = \"categorical_crossentropy\",\n",
    "              optimizer = \"adam\",\n",
    "              metrics = ['accuracy'])#opmizasyon ve başarım hesaplama metriklerinin belirlenmesi\n",
    "\n",
    "#model özetini görselleştirelim\n",
    "model.summary()"
   ]
  },
  {
   "cell_type": "markdown",
   "id": "0a539ead-0339-49a7-933b-d7eea6f43d33",
   "metadata": {},
   "source": [
    "**Eğtim ve Test kümelerinin eleman sayısı, yükseklik ve genişlik, kanalsayısı bilgilerini ekrana yazdıralım.**"
   ]
  },
  {
   "cell_type": "code",
   "execution_count": 22,
   "id": "d6535296-324a-40ea-bd54-3d6ea6b433de",
   "metadata": {},
   "outputs": [
    {
     "name": "stdout",
     "output_type": "stream",
     "text": [
      "Train :  (28709, 48, 48, 1)\n",
      "Test : (3589, 48, 48, 1)\n"
     ]
    }
   ],
   "source": [
    "x_train = train_images.reshape(-1, 48, 48, 1)\n",
    "x_test = test_images.reshape(-1, 48, 48, 1)\n",
    "\n",
    "print(\"Train : \", x_train.shape)\n",
    "print(\"Test :\", x_test.shape)"
   ]
  },
  {
   "cell_type": "markdown",
   "id": "ea6a97c2-6258-4a1a-a242-c0c9b53cb712",
   "metadata": {},
   "source": [
    "**Eğitim ve Test kümelerinin eleman ve duygu sınıf sayısı.**"
   ]
  },
  {
   "cell_type": "code",
   "execution_count": 23,
   "id": "38dfd0ae-6b24-44bc-a6a1-33f1dfe6482d",
   "metadata": {},
   "outputs": [
    {
     "name": "stdout",
     "output_type": "stream",
     "text": [
      "Train: (28709, 7)\n",
      "Test: (3589, 7)\n"
     ]
    }
   ],
   "source": [
    "print('Train:', y_train.shape)\n",
    "print('Test:', y_test.shape)"
   ]
  },
  {
   "cell_type": "markdown",
   "id": "ea895f97-1c48-4813-baaa-fc8e3242cf3d",
   "metadata": {},
   "source": [
    "**Eğitim işleminin gerçekleşmesini istediğimiz epoch, batchsize gibi değerlerin belirlenmesi ve eğitim sonucunda ağırlıkların .keras dosyası olarak kaydedilmesi işlemleri**"
   ]
  },
  {
   "cell_type": "code",
   "execution_count": 24,
   "id": "107b6fd1-36fa-4fdb-9f5d-834bf09db419",
   "metadata": {},
   "outputs": [
    {
     "name": "stdout",
     "output_type": "stream",
     "text": [
      "Epoch 1/20\n"
     ]
    },
    {
     "name": "stderr",
     "output_type": "stream",
     "text": [
      "WARNING: All log messages before absl::InitializeLog() is called are written to STDERR\n",
      "I0000 00:00:1738750282.979589    9545 service.cc:148] XLA service 0x7f5934002e60 initialized for platform CUDA (this does not guarantee that XLA will be used). Devices:\n",
      "I0000 00:00:1738750282.979640    9545 service.cc:156]   StreamExecutor device (0): NVIDIA GeForce GTX 1070, Compute Capability 6.1\n",
      "I0000 00:00:1738750282.979645    9545 service.cc:156]   StreamExecutor device (1): NVIDIA GeForce GTX 1070, Compute Capability 6.1\n",
      "2025-02-05 13:11:23.073773: I tensorflow/compiler/mlir/tensorflow/utils/dump_mlir_util.cc:268] disabling MLIR crash reproducer, set env var `MLIR_CRASH_REPRODUCER_DIRECTORY` to enable.\n",
      "I0000 00:00:1738750283.539993    9545 cuda_dnn.cc:529] Loaded cuDNN version 90300\n",
      "2025-02-05 13:11:24.249055: I external/local_xla/xla/service/gpu/autotuning/conv_algorithm_picker.cc:557] Omitted potentially buggy algorithm eng14{} for conv (f32[100,64,44,44]{3,2,1,0}, u8[0]{0}) custom-call(f32[100,64,46,46]{3,2,1,0}, f32[64,64,3,3]{3,2,1,0}, f32[64]{0}), window={size=3x3}, dim_labels=bf01_oi01->bf01, custom_call_target=\"__cudnn$convBiasActivationForward\", backend_config={\"cudnn_conv_backend_config\":{\"activation_mode\":\"kNone\",\"conv_result_scale\":1,\"leakyrelu_alpha\":0,\"side_input_scale\":0},\"force_earliest_schedule\":false,\"operation_queue_id\":\"0\",\"wait_on_operation_queues\":[]}\n",
      "2025-02-05 13:11:24.802095: I external/local_xla/xla/service/gpu/autotuning/conv_algorithm_picker.cc:557] Omitted potentially buggy algorithm eng14{} for conv (f32[100,32,20,20]{3,2,1,0}, u8[0]{0}) custom-call(f32[100,64,22,22]{3,2,1,0}, f32[32,64,3,3]{3,2,1,0}, f32[32]{0}), window={size=3x3}, dim_labels=bf01_oi01->bf01, custom_call_target=\"__cudnn$convBiasActivationForward\", backend_config={\"cudnn_conv_backend_config\":{\"activation_mode\":\"kNone\",\"conv_result_scale\":1,\"leakyrelu_alpha\":0,\"side_input_scale\":0},\"force_earliest_schedule\":false,\"operation_queue_id\":\"0\",\"wait_on_operation_queues\":[]}\n",
      "2025-02-05 13:11:24.898826: I external/local_xla/xla/service/gpu/autotuning/conv_algorithm_picker.cc:557] Omitted potentially buggy algorithm eng14{} for conv (f32[100,32,18,18]{3,2,1,0}, u8[0]{0}) custom-call(f32[100,32,20,20]{3,2,1,0}, f32[32,32,3,3]{3,2,1,0}, f32[32]{0}), window={size=3x3}, dim_labels=bf01_oi01->bf01, custom_call_target=\"__cudnn$convBiasActivationForward\", backend_config={\"cudnn_conv_backend_config\":{\"activation_mode\":\"kNone\",\"conv_result_scale\":1,\"leakyrelu_alpha\":0,\"side_input_scale\":0},\"force_earliest_schedule\":false,\"operation_queue_id\":\"0\",\"wait_on_operation_queues\":[]}\n",
      "2025-02-05 13:11:24.982762: I external/local_xla/xla/service/gpu/autotuning/conv_algorithm_picker.cc:557] Omitted potentially buggy algorithm eng14{} for conv (f32[100,32,16,16]{3,2,1,0}, u8[0]{0}) custom-call(f32[100,32,18,18]{3,2,1,0}, f32[32,32,3,3]{3,2,1,0}, f32[32]{0}), window={size=3x3}, dim_labels=bf01_oi01->bf01, custom_call_target=\"__cudnn$convBiasActivationForward\", backend_config={\"cudnn_conv_backend_config\":{\"activation_mode\":\"kNone\",\"conv_result_scale\":1,\"leakyrelu_alpha\":0,\"side_input_scale\":0},\"force_earliest_schedule\":false,\"operation_queue_id\":\"0\",\"wait_on_operation_queues\":[]}\n",
      "I0000 00:00:1738750290.393778    9545 device_compiler.h:188] Compiled cluster using XLA!  This line is logged at most once for the lifetime of the process.\n",
      "2025-02-05 13:11:38.016821: I external/local_xla/xla/service/gpu/autotuning/conv_algorithm_picker.cc:557] Omitted potentially buggy algorithm eng14{} for conv (f32[9,64,44,44]{3,2,1,0}, u8[0]{0}) custom-call(f32[9,64,46,46]{3,2,1,0}, f32[64,64,3,3]{3,2,1,0}, f32[64]{0}), window={size=3x3}, dim_labels=bf01_oi01->bf01, custom_call_target=\"__cudnn$convBiasActivationForward\", backend_config={\"cudnn_conv_backend_config\":{\"activation_mode\":\"kNone\",\"conv_result_scale\":1,\"leakyrelu_alpha\":0,\"side_input_scale\":0},\"force_earliest_schedule\":false,\"operation_queue_id\":\"0\",\"wait_on_operation_queues\":[]}\n",
      "2025-02-05 13:11:38.080389: I external/local_xla/xla/service/gpu/autotuning/conv_algorithm_picker.cc:557] Omitted potentially buggy algorithm eng14{} for conv (f32[9,32,20,20]{3,2,1,0}, u8[0]{0}) custom-call(f32[9,64,22,22]{3,2,1,0}, f32[32,64,3,3]{3,2,1,0}, f32[32]{0}), window={size=3x3}, dim_labels=bf01_oi01->bf01, custom_call_target=\"__cudnn$convBiasActivationForward\", backend_config={\"cudnn_conv_backend_config\":{\"activation_mode\":\"kNone\",\"conv_result_scale\":1,\"leakyrelu_alpha\":0,\"side_input_scale\":0},\"force_earliest_schedule\":false,\"operation_queue_id\":\"0\",\"wait_on_operation_queues\":[]}\n",
      "2025-02-05 13:11:38.122895: I external/local_xla/xla/service/gpu/autotuning/conv_algorithm_picker.cc:557] Omitted potentially buggy algorithm eng14{} for conv (f32[9,32,18,18]{3,2,1,0}, u8[0]{0}) custom-call(f32[9,32,20,20]{3,2,1,0}, f32[32,32,3,3]{3,2,1,0}, f32[32]{0}), window={size=3x3}, dim_labels=bf01_oi01->bf01, custom_call_target=\"__cudnn$convBiasActivationForward\", backend_config={\"cudnn_conv_backend_config\":{\"activation_mode\":\"kNone\",\"conv_result_scale\":1,\"leakyrelu_alpha\":0,\"side_input_scale\":0},\"force_earliest_schedule\":false,\"operation_queue_id\":\"0\",\"wait_on_operation_queues\":[]}\n",
      "2025-02-05 13:11:38.175416: I external/local_xla/xla/service/gpu/autotuning/conv_algorithm_picker.cc:557] Omitted potentially buggy algorithm eng14{} for conv (f32[9,32,16,16]{3,2,1,0}, u8[0]{0}) custom-call(f32[9,32,18,18]{3,2,1,0}, f32[32,32,3,3]{3,2,1,0}, f32[32]{0}), window={size=3x3}, dim_labels=bf01_oi01->bf01, custom_call_target=\"__cudnn$convBiasActivationForward\", backend_config={\"cudnn_conv_backend_config\":{\"activation_mode\":\"kNone\",\"conv_result_scale\":1,\"leakyrelu_alpha\":0,\"side_input_scale\":0},\"force_earliest_schedule\":false,\"operation_queue_id\":\"0\",\"wait_on_operation_queues\":[]}\n",
      "2025-02-05 13:11:42.014758: I external/local_xla/xla/service/gpu/autotuning/conv_algorithm_picker.cc:557] Omitted potentially buggy algorithm eng14{} for conv (f32[89,64,44,44]{3,2,1,0}, u8[0]{0}) custom-call(f32[89,64,46,46]{3,2,1,0}, f32[64,64,3,3]{3,2,1,0}, f32[64]{0}), window={size=3x3}, dim_labels=bf01_oi01->bf01, custom_call_target=\"__cudnn$convBiasActivationForward\", backend_config={\"cudnn_conv_backend_config\":{\"activation_mode\":\"kNone\",\"conv_result_scale\":1,\"leakyrelu_alpha\":0,\"side_input_scale\":0},\"force_earliest_schedule\":false,\"operation_queue_id\":\"0\",\"wait_on_operation_queues\":[]}\n",
      "2025-02-05 13:11:42.310827: I external/local_xla/xla/service/gpu/autotuning/conv_algorithm_picker.cc:557] Omitted potentially buggy algorithm eng14{} for conv (f32[89,32,20,20]{3,2,1,0}, u8[0]{0}) custom-call(f32[89,64,22,22]{3,2,1,0}, f32[32,64,3,3]{3,2,1,0}, f32[32]{0}), window={size=3x3}, dim_labels=bf01_oi01->bf01, custom_call_target=\"__cudnn$convBiasActivationForward\", backend_config={\"cudnn_conv_backend_config\":{\"activation_mode\":\"kNone\",\"conv_result_scale\":1,\"leakyrelu_alpha\":0,\"side_input_scale\":0},\"force_earliest_schedule\":false,\"operation_queue_id\":\"0\",\"wait_on_operation_queues\":[]}\n",
      "2025-02-05 13:11:42.387862: I external/local_xla/xla/service/gpu/autotuning/conv_algorithm_picker.cc:557] Omitted potentially buggy algorithm eng14{} for conv (f32[89,32,18,18]{3,2,1,0}, u8[0]{0}) custom-call(f32[89,32,20,20]{3,2,1,0}, f32[32,32,3,3]{3,2,1,0}, f32[32]{0}), window={size=3x3}, dim_labels=bf01_oi01->bf01, custom_call_target=\"__cudnn$convBiasActivationForward\", backend_config={\"cudnn_conv_backend_config\":{\"activation_mode\":\"kNone\",\"conv_result_scale\":1,\"leakyrelu_alpha\":0,\"side_input_scale\":0},\"force_earliest_schedule\":false,\"operation_queue_id\":\"0\",\"wait_on_operation_queues\":[]}\n",
      "2025-02-05 13:11:42.447827: I external/local_xla/xla/service/gpu/autotuning/conv_algorithm_picker.cc:557] Omitted potentially buggy algorithm eng14{} for conv (f32[89,32,16,16]{3,2,1,0}, u8[0]{0}) custom-call(f32[89,32,18,18]{3,2,1,0}, f32[32,32,3,3]{3,2,1,0}, f32[32]{0}), window={size=3x3}, dim_labels=bf01_oi01->bf01, custom_call_target=\"__cudnn$convBiasActivationForward\", backend_config={\"cudnn_conv_backend_config\":{\"activation_mode\":\"kNone\",\"conv_result_scale\":1,\"leakyrelu_alpha\":0,\"side_input_scale\":0},\"force_earliest_schedule\":false,\"operation_queue_id\":\"0\",\"wait_on_operation_queues\":[]}\n"
     ]
    },
    {
     "name": "stdout",
     "output_type": "stream",
     "text": [
      "\n",
      "Epoch 1: val_loss improved from inf to 1.59186, saving model to /home/dilaver/Keras_ile_Derin_Ogrenme/face_model.keras\n",
      "288/288 - 24s - 83ms/step - accuracy: 0.2585 - loss: 1.9909 - val_accuracy: 0.3870 - val_loss: 1.5919\n",
      "Epoch 2/20\n",
      "\n",
      "Epoch 2: val_loss improved from 1.59186 to 1.46616, saving model to /home/dilaver/Keras_ile_Derin_Ogrenme/face_model.keras\n",
      "288/288 - 7s - 24ms/step - accuracy: 0.3594 - loss: 1.6244 - val_accuracy: 0.4400 - val_loss: 1.4662\n",
      "Epoch 3/20\n",
      "\n",
      "Epoch 3: val_loss improved from 1.46616 to 1.42174, saving model to /home/dilaver/Keras_ile_Derin_Ogrenme/face_model.keras\n",
      "288/288 - 7s - 25ms/step - accuracy: 0.4098 - loss: 1.5184 - val_accuracy: 0.4400 - val_loss: 1.4217\n",
      "Epoch 4/20\n",
      "\n",
      "Epoch 4: val_loss improved from 1.42174 to 1.36688, saving model to /home/dilaver/Keras_ile_Derin_Ogrenme/face_model.keras\n",
      "288/288 - 7s - 25ms/step - accuracy: 0.4399 - loss: 1.4481 - val_accuracy: 0.4661 - val_loss: 1.3669\n",
      "Epoch 5/20\n",
      "\n",
      "Epoch 5: val_loss improved from 1.36688 to 1.31752, saving model to /home/dilaver/Keras_ile_Derin_Ogrenme/face_model.keras\n",
      "288/288 - 5s - 19ms/step - accuracy: 0.4588 - loss: 1.3998 - val_accuracy: 0.4837 - val_loss: 1.3175\n",
      "Epoch 6/20\n",
      "\n",
      "Epoch 6: val_loss improved from 1.31752 to 1.27917, saving model to /home/dilaver/Keras_ile_Derin_Ogrenme/face_model.keras\n",
      "288/288 - 7s - 24ms/step - accuracy: 0.4737 - loss: 1.3654 - val_accuracy: 0.5068 - val_loss: 1.2792\n",
      "Epoch 7/20\n",
      "\n",
      "Epoch 7: val_loss improved from 1.27917 to 1.27476, saving model to /home/dilaver/Keras_ile_Derin_Ogrenme/face_model.keras\n",
      "288/288 - 7s - 25ms/step - accuracy: 0.4904 - loss: 1.3302 - val_accuracy: 0.5077 - val_loss: 1.2748\n",
      "Epoch 8/20\n",
      "\n",
      "Epoch 8: val_loss improved from 1.27476 to 1.25104, saving model to /home/dilaver/Keras_ile_Derin_Ogrenme/face_model.keras\n",
      "288/288 - 7s - 25ms/step - accuracy: 0.4991 - loss: 1.3067 - val_accuracy: 0.5194 - val_loss: 1.2510\n",
      "Epoch 9/20\n",
      "\n",
      "Epoch 9: val_loss improved from 1.25104 to 1.24692, saving model to /home/dilaver/Keras_ile_Derin_Ogrenme/face_model.keras\n",
      "288/288 - 7s - 24ms/step - accuracy: 0.5063 - loss: 1.2811 - val_accuracy: 0.5252 - val_loss: 1.2469\n",
      "Epoch 10/20\n",
      "\n",
      "Epoch 10: val_loss improved from 1.24692 to 1.23530, saving model to /home/dilaver/Keras_ile_Derin_Ogrenme/face_model.keras\n",
      "288/288 - 5s - 19ms/step - accuracy: 0.5191 - loss: 1.2680 - val_accuracy: 0.5339 - val_loss: 1.2353\n",
      "Epoch 11/20\n",
      "\n",
      "Epoch 11: val_loss improved from 1.23530 to 1.19329, saving model to /home/dilaver/Keras_ile_Derin_Ogrenme/face_model.keras\n",
      "288/288 - 7s - 24ms/step - accuracy: 0.5199 - loss: 1.2499 - val_accuracy: 0.5375 - val_loss: 1.1933\n",
      "Epoch 12/20\n",
      "\n",
      "Epoch 12: val_loss did not improve from 1.19329\n",
      "288/288 - 7s - 24ms/step - accuracy: 0.5299 - loss: 1.2344 - val_accuracy: 0.5302 - val_loss: 1.2302\n",
      "Epoch 13/20\n",
      "\n",
      "Epoch 13: val_loss did not improve from 1.19329\n",
      "288/288 - 7s - 24ms/step - accuracy: 0.5376 - loss: 1.2165 - val_accuracy: 0.5391 - val_loss: 1.2130\n",
      "Epoch 14/20\n",
      "\n",
      "Epoch 14: val_loss improved from 1.19329 to 1.19289, saving model to /home/dilaver/Keras_ile_Derin_Ogrenme/face_model.keras\n",
      "288/288 - 7s - 25ms/step - accuracy: 0.5385 - loss: 1.2150 - val_accuracy: 0.5447 - val_loss: 1.1929\n",
      "Epoch 15/20\n",
      "\n",
      "Epoch 15: val_loss improved from 1.19289 to 1.15704, saving model to /home/dilaver/Keras_ile_Derin_Ogrenme/face_model.keras\n",
      "288/288 - 6s - 21ms/step - accuracy: 0.5417 - loss: 1.1995 - val_accuracy: 0.5556 - val_loss: 1.1570\n",
      "Epoch 16/20\n",
      "\n",
      "Epoch 16: val_loss improved from 1.15704 to 1.14897, saving model to /home/dilaver/Keras_ile_Derin_Ogrenme/face_model.keras\n",
      "288/288 - 7s - 26ms/step - accuracy: 0.5456 - loss: 1.1882 - val_accuracy: 0.5620 - val_loss: 1.1490\n",
      "Epoch 17/20\n",
      "\n",
      "Epoch 17: val_loss improved from 1.14897 to 1.13902, saving model to /home/dilaver/Keras_ile_Derin_Ogrenme/face_model.keras\n",
      "288/288 - 7s - 25ms/step - accuracy: 0.5501 - loss: 1.1763 - val_accuracy: 0.5639 - val_loss: 1.1390\n",
      "Epoch 18/20\n",
      "\n",
      "Epoch 18: val_loss improved from 1.13902 to 1.13093, saving model to /home/dilaver/Keras_ile_Derin_Ogrenme/face_model.keras\n",
      "288/288 - 7s - 25ms/step - accuracy: 0.5551 - loss: 1.1722 - val_accuracy: 0.5692 - val_loss: 1.1309\n",
      "Epoch 19/20\n",
      "\n",
      "Epoch 19: val_loss did not improve from 1.13093\n",
      "288/288 - 5s - 19ms/step - accuracy: 0.5567 - loss: 1.1581 - val_accuracy: 0.5648 - val_loss: 1.1429\n",
      "Epoch 20/20\n",
      "\n",
      "Epoch 20: val_loss did not improve from 1.13093\n",
      "288/288 - 7s - 24ms/step - accuracy: 0.5617 - loss: 1.1550 - val_accuracy: 0.5500 - val_loss: 1.1804\n"
     ]
    }
   ],
   "source": [
    "#En başarılı ağırlıkları kaydet\n",
    "\n",
    "checkpointer = ModelCheckpoint(filepath= root + '/face_model.keras', verbose=1, save_best_only=True)\n",
    "\n",
    "epochs = 20\n",
    "batchSize = 100\n",
    "\n",
    "# Modeli çalıştırma\n",
    "hist = model.fit(x_train, y_train,\n",
    "                 epochs=epochs,\n",
    "                 shuffle=True,\n",
    "                 batch_size=batchSize,\n",
    "                 validation_data=(x_test, y_test),\n",
    "                 callbacks=[checkpointer], verbose=2)\n",
    "\n",
    "model_json = model.to_json()\n",
    "with open(root+'face_model_keras.json', \"w\") as json_file:\n",
    "    json_file.write(model_json)"
   ]
  },
  {
   "cell_type": "markdown",
   "id": "2f3770ca-04a2-4d07-9806-4aee4aedafab",
   "metadata": {},
   "source": [
    "#### Eğitim sonucu elde edilen Eğitim ve Geçerleme (Validation) sonuçlarının grafiksel olarak ifade edilip ekrarna yazdırılması işlemleri."
   ]
  },
  {
   "cell_type": "code",
   "execution_count": 25,
   "id": "c44844fd-2d18-4770-a6a3-8450b5332d5a",
   "metadata": {},
   "outputs": [
    {
     "data": {
      "image/png": "[encoded data removed]",
      "text/plain": [
       "<Figure size 1400x300 with 2 Axes>"
      ]
     },
     "metadata": {},
     "output_type": "display_data"
    }
   ],
   "source": [
    "plt.figure(figsize=(14,3))\n",
    "plt.subplot(1, 2, 1)\n",
    "plt.suptitle('Eğitim', fontsize=10)\n",
    "plt.ylabel('Loss', fontsize=16)\n",
    "plt.plot(hist.history['loss'], color ='r', label='Training Loss')\n",
    "plt.plot(hist.history['val_loss'], color ='b', label='Validation Loss')\n",
    "plt.legend(loc='upper right')\n",
    "\n",
    "plt.subplot(1, 2, 2)\n",
    "plt.ylabel('Accuracy', fontsize=16)\n",
    "plt.plot(hist.history['accuracy'], color ='g', label='Training Accuracy')\n",
    "plt.plot(hist.history['val_accuracy'], color ='m', label='Validation Accuracy')\n",
    "plt.legend(loc='lower right')\n",
    "\n",
    "plt.show()"
   ]
  },
  {
   "cell_type": "markdown",
   "id": "9f39136e-28ec-4b4b-a246-df0ba9139d82",
   "metadata": {},
   "source": [
    "##### Kaggle submit edecek gibi **PrivateTest** örnekleri ile test edelim."
   ]
  },
  {
   "cell_type": "code",
   "execution_count": 26,
   "id": "d838418e-bf03-4de8-8328-ae0bd93362fb",
   "metadata": {},
   "outputs": [
    {
     "data": {
      "text/html": [
       "<div>\n",
       "<style scoped>\n",
       "    .dataframe tbody tr th:only-of-type {\n",
       "        vertical-align: middle;\n",
       "    }\n",
       "\n",
       "    .dataframe tbody tr th {\n",
       "        vertical-align: top;\n",
       "    }\n",
       "\n",
       "    .dataframe thead th {\n",
       "        text-align: right;\n",
       "    }\n",
       "</style>\n",
       "<table border=\"1\" class=\"dataframe\">\n",
       "  <thead>\n",
       "    <tr style=\"text-align: right;\">\n",
       "      <th></th>\n",
       "      <th>emotion</th>\n",
       "      <th>pixels</th>\n",
       "    </tr>\n",
       "  </thead>\n",
       "  <tbody>\n",
       "    <tr>\n",
       "      <th>32298</th>\n",
       "      <td>0</td>\n",
       "      <td>[170.0, 118.0, 101.0, 88.0, 88.0, 75.0, 78.0, ...</td>\n",
       "    </tr>\n",
       "    <tr>\n",
       "      <th>32299</th>\n",
       "      <td>5</td>\n",
       "      <td>[7.0, 5.0, 8.0, 6.0, 7.0, 3.0, 2.0, 6.0, 5.0, ...</td>\n",
       "    </tr>\n",
       "    <tr>\n",
       "      <th>32300</th>\n",
       "      <td>6</td>\n",
       "      <td>[232.0, 240.0, 241.0, 239.0, 237.0, 235.0, 246...</td>\n",
       "    </tr>\n",
       "    <tr>\n",
       "      <th>32301</th>\n",
       "      <td>4</td>\n",
       "      <td>[200.0, 197.0, 149.0, 139.0, 156.0, 89.0, 111....</td>\n",
       "    </tr>\n",
       "    <tr>\n",
       "      <th>32302</th>\n",
       "      <td>2</td>\n",
       "      <td>[40.0, 28.0, 33.0, 56.0, 45.0, 33.0, 31.0, 78....</td>\n",
       "    </tr>\n",
       "  </tbody>\n",
       "</table>\n",
       "</div>"
      ],
      "text/plain": [
       "       emotion                                             pixels\n",
       "32298        0  [170.0, 118.0, 101.0, 88.0, 88.0, 75.0, 78.0, ...\n",
       "32299        5  [7.0, 5.0, 8.0, 6.0, 7.0, 3.0, 2.0, 6.0, 5.0, ...\n",
       "32300        6  [232.0, 240.0, 241.0, 239.0, 237.0, 235.0, 246...\n",
       "32301        4  [200.0, 197.0, 149.0, 139.0, 156.0, 89.0, 111....\n",
       "32302        2  [40.0, 28.0, 33.0, 56.0, 45.0, 33.0, 31.0, 78...."
      ]
     },
     "execution_count": 26,
     "metadata": {},
     "output_type": "execute_result"
    }
   ],
   "source": [
    "test = data[[\"emotion\", \"pixels\"]][data[\"Usage\"] == \"PrivateTest\"]\n",
    "test[\"pixels\"] = test[\"pixels\"].apply(lambda im: np.fromstring(im, sep=' '))\n",
    "\n",
    "test.head()"
   ]
  },
  {
   "cell_type": "code",
   "execution_count": 27,
   "id": "c78caf53-4aec-4f69-990a-4b34206bfc41",
   "metadata": {},
   "outputs": [],
   "source": [
    "x_test_private = np.vstack(test[\"pixels\"].values)\n",
    "y_test_private = np.array(test[\"emotion\"])"
   ]
  },
  {
   "cell_type": "code",
   "execution_count": 28,
   "id": "d33bc23b-f36d-4d6a-8202-9ac419c6efd4",
   "metadata": {},
   "outputs": [
    {
     "data": {
      "text/plain": [
       "((3589, 48, 48, 1), (3589, 7))"
      ]
     },
     "execution_count": 28,
     "metadata": {},
     "output_type": "execute_result"
    }
   ],
   "source": [
    "x_test_private = x_test_private.reshape(-1, 48, 48, 1)\n",
    "y_test_private = np_utils.to_categorical(y_test_private)\n",
    "x_test_private.shape, y_test_private.shape"
   ]
  },
  {
   "cell_type": "code",
   "execution_count": 29,
   "id": "06ff4adc-ea6f-43f9-9f9c-3f55c9e4e72c",
   "metadata": {},
   "outputs": [
    {
     "name": "stderr",
     "output_type": "stream",
     "text": [
      "2025-02-05 13:13:53.297080: I external/local_xla/xla/service/gpu/autotuning/conv_algorithm_picker.cc:557] Omitted potentially buggy algorithm eng14{} for conv (f32[32,64,44,44]{3,2,1,0}, u8[0]{0}) custom-call(f32[32,64,46,46]{3,2,1,0}, f32[64,64,3,3]{3,2,1,0}, f32[64]{0}), window={size=3x3}, dim_labels=bf01_oi01->bf01, custom_call_target=\"__cudnn$convBiasActivationForward\", backend_config={\"cudnn_conv_backend_config\":{\"activation_mode\":\"kNone\",\"conv_result_scale\":1,\"leakyrelu_alpha\":0,\"side_input_scale\":0},\"force_earliest_schedule\":false,\"operation_queue_id\":\"0\",\"wait_on_operation_queues\":[]}\n",
      "2025-02-05 13:13:53.463175: I external/local_xla/xla/service/gpu/autotuning/conv_algorithm_picker.cc:557] Omitted potentially buggy algorithm eng14{} for conv (f32[32,32,20,20]{3,2,1,0}, u8[0]{0}) custom-call(f32[32,64,22,22]{3,2,1,0}, f32[32,64,3,3]{3,2,1,0}, f32[32]{0}), window={size=3x3}, dim_labels=bf01_oi01->bf01, custom_call_target=\"__cudnn$convBiasActivationForward\", backend_config={\"cudnn_conv_backend_config\":{\"activation_mode\":\"kNone\",\"conv_result_scale\":1,\"leakyrelu_alpha\":0,\"side_input_scale\":0},\"force_earliest_schedule\":false,\"operation_queue_id\":\"0\",\"wait_on_operation_queues\":[]}\n",
      "2025-02-05 13:13:53.543517: I external/local_xla/xla/service/gpu/autotuning/conv_algorithm_picker.cc:557] Omitted potentially buggy algorithm eng14{} for conv (f32[32,32,18,18]{3,2,1,0}, u8[0]{0}) custom-call(f32[32,32,20,20]{3,2,1,0}, f32[32,32,3,3]{3,2,1,0}, f32[32]{0}), window={size=3x3}, dim_labels=bf01_oi01->bf01, custom_call_target=\"__cudnn$convBiasActivationForward\", backend_config={\"cudnn_conv_backend_config\":{\"activation_mode\":\"kNone\",\"conv_result_scale\":1,\"leakyrelu_alpha\":0,\"side_input_scale\":0},\"force_earliest_schedule\":false,\"operation_queue_id\":\"0\",\"wait_on_operation_queues\":[]}\n",
      "2025-02-05 13:13:53.625216: I external/local_xla/xla/service/gpu/autotuning/conv_algorithm_picker.cc:557] Omitted potentially buggy algorithm eng14{} for conv (f32[32,32,16,16]{3,2,1,0}, u8[0]{0}) custom-call(f32[32,32,18,18]{3,2,1,0}, f32[32,32,3,3]{3,2,1,0}, f32[32]{0}), window={size=3x3}, dim_labels=bf01_oi01->bf01, custom_call_target=\"__cudnn$convBiasActivationForward\", backend_config={\"cudnn_conv_backend_config\":{\"activation_mode\":\"kNone\",\"conv_result_scale\":1,\"leakyrelu_alpha\":0,\"side_input_scale\":0},\"force_earliest_schedule\":false,\"operation_queue_id\":\"0\",\"wait_on_operation_queues\":[]}\n",
      "2025-02-05 13:13:54.697805: I external/local_xla/xla/service/gpu/autotuning/conv_algorithm_picker.cc:557] Omitted potentially buggy algorithm eng14{} for conv (f32[5,64,44,44]{3,2,1,0}, u8[0]{0}) custom-call(f32[5,64,46,46]{3,2,1,0}, f32[64,64,3,3]{3,2,1,0}, f32[64]{0}), window={size=3x3}, dim_labels=bf01_oi01->bf01, custom_call_target=\"__cudnn$convBiasActivationForward\", backend_config={\"cudnn_conv_backend_config\":{\"activation_mode\":\"kNone\",\"conv_result_scale\":1,\"leakyrelu_alpha\":0,\"side_input_scale\":0},\"force_earliest_schedule\":false,\"operation_queue_id\":\"0\",\"wait_on_operation_queues\":[]}\n",
      "2025-02-05 13:13:54.763469: I external/local_xla/xla/service/gpu/autotuning/conv_algorithm_picker.cc:557] Omitted potentially buggy algorithm eng14{} for conv (f32[5,32,20,20]{3,2,1,0}, u8[0]{0}) custom-call(f32[5,64,22,22]{3,2,1,0}, f32[32,64,3,3]{3,2,1,0}, f32[32]{0}), window={size=3x3}, dim_labels=bf01_oi01->bf01, custom_call_target=\"__cudnn$convBiasActivationForward\", backend_config={\"cudnn_conv_backend_config\":{\"activation_mode\":\"kNone\",\"conv_result_scale\":1,\"leakyrelu_alpha\":0,\"side_input_scale\":0},\"force_earliest_schedule\":false,\"operation_queue_id\":\"0\",\"wait_on_operation_queues\":[]}\n",
      "2025-02-05 13:13:54.805331: I external/local_xla/xla/service/gpu/autotuning/conv_algorithm_picker.cc:557] Omitted potentially buggy algorithm eng14{} for conv (f32[5,32,18,18]{3,2,1,0}, u8[0]{0}) custom-call(f32[5,32,20,20]{3,2,1,0}, f32[32,32,3,3]{3,2,1,0}, f32[32]{0}), window={size=3x3}, dim_labels=bf01_oi01->bf01, custom_call_target=\"__cudnn$convBiasActivationForward\", backend_config={\"cudnn_conv_backend_config\":{\"activation_mode\":\"kNone\",\"conv_result_scale\":1,\"leakyrelu_alpha\":0,\"side_input_scale\":0},\"force_earliest_schedule\":false,\"operation_queue_id\":\"0\",\"wait_on_operation_queues\":[]}\n",
      "2025-02-05 13:13:54.863597: I external/local_xla/xla/service/gpu/autotuning/conv_algorithm_picker.cc:557] Omitted potentially buggy algorithm eng14{} for conv (f32[5,32,16,16]{3,2,1,0}, u8[0]{0}) custom-call(f32[5,32,18,18]{3,2,1,0}, f32[32,32,3,3]{3,2,1,0}, f32[32]{0}), window={size=3x3}, dim_labels=bf01_oi01->bf01, custom_call_target=\"__cudnn$convBiasActivationForward\", backend_config={\"cudnn_conv_backend_config\":{\"activation_mode\":\"kNone\",\"conv_result_scale\":1,\"leakyrelu_alpha\":0,\"side_input_scale\":0},\"force_earliest_schedule\":false,\"operation_queue_id\":\"0\",\"wait_on_operation_queues\":[]}\n"
     ]
    },
    {
     "name": "stdout",
     "output_type": "stream",
     "text": [
      "PrivateTest üzerindeki doğruluk durumu: [1.176150918006897, 0.5533574819564819]\n"
     ]
    }
   ],
   "source": [
    "score = model.evaluate(x_test_private, y_test_private, verbose=0)\n",
    "print(\"PrivateTest üzerindeki doğruluk durumu:\", score)"
   ]
  },
  {
   "cell_type": "markdown",
   "id": "59570d2a-67d5-4337-94d1-e6af2c68f04f",
   "metadata": {},
   "source": [
    "**Veri kümseindeki eğitim kısmı ile modeli eğitip test için ayırılan veri ile test işlemlerini yaptık.**\n",
    "\n",
    "___\n",
    "\n",
    "### Farklı görüntülerle test işlemlerini yapıp sonuçları görselleştirelim."
   ]
  },
  {
   "cell_type": "code",
   "execution_count": null,
   "id": "471bf5e3-9429-4c53-b317-f38dfcadf682",
   "metadata": {},
   "outputs": [],
   "source": []
  }
 ],
 "metadata": {
  "kernelspec": {
   "display_name": "Python 3 (ipykernel)",
   "language": "python",
   "name": "python3"
  },
  "language_info": {
   "codemirror_mode": {
    "name": "ipython",
    "version": 3
   },
   "file_extension": ".py",
   "mimetype": "text/x-python",
   "name": "python",
   "nbconvert_exporter": "python",
   "pygments_lexer": "ipython3",
   "version": "3.12.3"
  }
 },
 "nbformat": 4,
 "nbformat_minor": 5
}
