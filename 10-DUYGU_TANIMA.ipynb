{
 "cells": [
  {
   "cell_type": "markdown",
   "id": "83a5eb16-8d6d-4f8e-92db-c0e0068b1c06",
   "metadata": {},
   "source": [
    "### Gerekli Kütüphanelerin yüklenmesi"
   ]
  },
  {
   "cell_type": "code",
   "execution_count": 1,
   "id": "97c6f49a-ba78-485a-bd75-de0abcb5c7e6",
   "metadata": {},
   "outputs": [
    {
     "name": "stderr",
     "output_type": "stream",
     "text": [
      "2025-02-01 16:40:51.799399: E external/local_xla/xla/stream_executor/cuda/cuda_fft.cc:477] Unable to register cuFFT factory: Attempting to register factory for plugin cuFFT when one has already been registered\n",
      "WARNING: All log messages before absl::InitializeLog() is called are written to STDERR\n",
      "E0000 00:00:1738417251.816024   28096 cuda_dnn.cc:8310] Unable to register cuDNN factory: Attempting to register factory for plugin cuDNN when one has already been registered\n",
      "E0000 00:00:1738417251.820895   28096 cuda_blas.cc:1418] Unable to register cuBLAS factory: Attempting to register factory for plugin cuBLAS when one has already been registered\n",
      "2025-02-01 16:40:51.837895: I tensorflow/core/platform/cpu_feature_guard.cc:210] This TensorFlow binary is optimized to use available CPU instructions in performance-critical operations.\n",
      "To enable the following instructions: AVX2 FMA, in other operations, rebuild TensorFlow with the appropriate compiler flags.\n"
     ]
    }
   ],
   "source": [
    "import os\n",
    "import numpy as np\n",
    "import pandas as pd\n",
    "import matplotlib.pyplot as plt\n",
    "%matplotlib inline\n",
    "\n",
    "import tensorflow as tf\n",
    "from tensorflow.keras.models import Sequential, Model, model_from_json\n",
    "from tensorflow.keras.layers import Dense, Conv2D, Activation, MaxPool2D, Flatten, Dropout, BatchNormalization\n",
    "from tensorflow.python.keras.utils import np_utils\n",
    "from tensorflow.keras.preprocessing import image\n",
    "from tensorflow.keras.callbacks import ModelCheckpoint"
   ]
  },
  {
   "cell_type": "markdown",
   "id": "a86a7082-0946-41df-9d2a-3722442d72fa",
   "metadata": {},
   "source": [
    "### Veri setinin okunması"
   ]
  },
  {
   "cell_type": "code",
   "execution_count": 2,
   "id": "80130bf8-317c-492b-8138-465cb9c73dcd",
   "metadata": {},
   "outputs": [
    {
     "name": "stderr",
     "output_type": "stream",
     "text": [
      "/home/dilaver/tf_env/lib/python3.12/site-packages/tqdm/auto.py:21: TqdmWarning: IProgress not found. Please update jupyter and ipywidgets. See https://ipywidgets.readthedocs.io/en/stable/user_install.html\n",
      "  from .autonotebook import tqdm as notebook_tqdm\n"
     ]
    },
    {
     "name": "stdout",
     "output_type": "stream",
     "text": [
      "Path to dataset files: /home/dilaver/.cache/kagglehub/datasets/yusufkorayhasdemir/fer2013csv/versions/1\n"
     ]
    }
   ],
   "source": [
    "import kagglehub\n",
    "\n",
    "# Download latest version\n",
    "path = kagglehub.dataset_download(\"yusufkorayhasdemir/fer2013csv\")\n",
    "\n",
    "print(\"Path to dataset files:\", path)"
   ]
  },
  {
   "cell_type": "code",
   "execution_count": 3,
   "id": "d8df877b-16cf-4977-9f60-19e4978d6654",
   "metadata": {},
   "outputs": [
    {
     "name": "stdout",
     "output_type": "stream",
     "text": [
      "total 294020\n",
      "-rw-r--r-- 1 dilaver dilaver 301072766 Feb  1 15:42 fer2013.csv\n"
     ]
    }
   ],
   "source": [
    "os.chdir(path)\n",
    "!ls -l"
   ]
  },
  {
   "cell_type": "code",
   "execution_count": 4,
   "id": "482d3e2d-b125-42fa-8fca-002ed6d89722",
   "metadata": {},
   "outputs": [],
   "source": [
    "data = pd.read_csv(path+\"/fer2013.csv\")"
   ]
  },
  {
   "cell_type": "code",
   "execution_count": 5,
   "id": "708894fe-6fdb-4da5-a0d0-f6a96b318ec7",
   "metadata": {},
   "outputs": [
    {
     "data": {
      "text/plain": [
       "(35887, 3)"
      ]
     },
     "execution_count": 5,
     "metadata": {},
     "output_type": "execute_result"
    }
   ],
   "source": [
    "data.shape"
   ]
  },
  {
   "cell_type": "code",
   "execution_count": 6,
   "id": "791fc7a2-c90a-4fec-813e-fc75a2bdd938",
   "metadata": {},
   "outputs": [
    {
     "data": {
      "text/html": [
       "<div>\n",
       "<style scoped>\n",
       "    .dataframe tbody tr th:only-of-type {\n",
       "        vertical-align: middle;\n",
       "    }\n",
       "\n",
       "    .dataframe tbody tr th {\n",
       "        vertical-align: top;\n",
       "    }\n",
       "\n",
       "    .dataframe thead th {\n",
       "        text-align: right;\n",
       "    }\n",
       "</style>\n",
       "<table border=\"1\" class=\"dataframe\">\n",
       "  <thead>\n",
       "    <tr style=\"text-align: right;\">\n",
       "      <th></th>\n",
       "      <th>emotion</th>\n",
       "      <th>pixels</th>\n",
       "      <th>Usage</th>\n",
       "    </tr>\n",
       "  </thead>\n",
       "  <tbody>\n",
       "    <tr>\n",
       "      <th>0</th>\n",
       "      <td>0</td>\n",
       "      <td>70 80 82 72 58 58 60 63 54 58 60 48 89 115 121...</td>\n",
       "      <td>Training</td>\n",
       "    </tr>\n",
       "    <tr>\n",
       "      <th>1</th>\n",
       "      <td>0</td>\n",
       "      <td>151 150 147 155 148 133 111 140 170 174 182 15...</td>\n",
       "      <td>Training</td>\n",
       "    </tr>\n",
       "    <tr>\n",
       "      <th>2</th>\n",
       "      <td>2</td>\n",
       "      <td>231 212 156 164 174 138 161 173 182 200 106 38...</td>\n",
       "      <td>Training</td>\n",
       "    </tr>\n",
       "    <tr>\n",
       "      <th>3</th>\n",
       "      <td>4</td>\n",
       "      <td>24 32 36 30 32 23 19 20 30 41 21 22 32 34 21 1...</td>\n",
       "      <td>Training</td>\n",
       "    </tr>\n",
       "    <tr>\n",
       "      <th>4</th>\n",
       "      <td>6</td>\n",
       "      <td>4 0 0 0 0 0 0 0 0 0 0 0 3 15 23 28 48 50 58 84...</td>\n",
       "      <td>Training</td>\n",
       "    </tr>\n",
       "  </tbody>\n",
       "</table>\n",
       "</div>"
      ],
      "text/plain": [
       "   emotion                                             pixels     Usage\n",
       "0        0  70 80 82 72 58 58 60 63 54 58 60 48 89 115 121...  Training\n",
       "1        0  151 150 147 155 148 133 111 140 170 174 182 15...  Training\n",
       "2        2  231 212 156 164 174 138 161 173 182 200 106 38...  Training\n",
       "3        4  24 32 36 30 32 23 19 20 30 41 21 22 32 34 21 1...  Training\n",
       "4        6  4 0 0 0 0 0 0 0 0 0 0 0 3 15 23 28 48 50 58 84...  Training"
      ]
     },
     "execution_count": 6,
     "metadata": {},
     "output_type": "execute_result"
    }
   ],
   "source": [
    "data.head()"
   ]
  },
  {
   "cell_type": "code",
   "execution_count": 7,
   "id": "283a6e05-00ce-4215-9b8d-6433f2d15c21",
   "metadata": {},
   "outputs": [
    {
     "data": {
      "text/plain": [
       "Usage\n",
       "Training       28709\n",
       "PublicTest      3589\n",
       "PrivateTest     3589\n",
       "Name: count, dtype: int64"
      ]
     },
     "execution_count": 7,
     "metadata": {},
     "output_type": "execute_result"
    }
   ],
   "source": [
    "data[\"Usage\"].value_counts()"
   ]
  },
  {
   "cell_type": "markdown",
   "id": "5503b542-ad8b-490a-872c-384b48f3b345",
   "metadata": {},
   "source": [
    "## EĞİTİM VERİSİ İÇİN ÖN İŞLEME ADIMLARI"
   ]
  },
  {
   "cell_type": "code",
   "execution_count": 8,
   "id": "6958579e-1d87-4005-b2bf-cb8305cd7998",
   "metadata": {},
   "outputs": [
    {
     "name": "stdout",
     "output_type": "stream",
     "text": [
      "Eğitim setindeki örnek sayısı : 28709\n",
      "Eğitim setindeki PrivateTest sayısı : 3589\n",
      "Eğitim setindeki PublicTest sayısı : 3589\n"
     ]
    }
   ],
   "source": [
    "np.unique(data[\"Usage\"].values.ravel())\n",
    "print(\"Eğitim setindeki örnek sayısı : %d\"%(len(data[data.Usage ==\"Training\"])))\n",
    "print(\"Eğitim setindeki PrivateTest sayısı : %d\"%(len(data[data.Usage ==\"PrivateTest\"])))\n",
    "print(\"Eğitim setindeki PublicTest sayısı : %d\"%(len(data[data.Usage ==\"PublicTest\"])))"
   ]
  },
  {
   "cell_type": "markdown",
   "id": "257ed579-e430-4a07-a46d-75c28b2142eb",
   "metadata": {},
   "source": [
    "### Eğitim işlemi için veri kümesinde ayrılmış olan Training kısmını alıyoruz"
   ]
  },
  {
   "cell_type": "code",
   "execution_count": 9,
   "id": "47e25e7b-a658-42dd-b270-64b805178c5d",
   "metadata": {},
   "outputs": [],
   "source": [
    "train_data = data[data.Usage == \"Training\"] # Sadece eğitim örneklerini train_data içine aldık."
   ]
  },
  {
   "cell_type": "markdown",
   "id": "0354f9b7-2027-4fe2-a301-dbd4c91a0928",
   "metadata": {},
   "source": [
    "**Eğitim örneklerinin piksel değerleri bize tablo halinde yan yana verildiği için boşluklardan parse ederek liste olarak değişkene alalım.**"
   ]
  },
  {
   "cell_type": "code",
   "execution_count": 63,
   "id": "0dcbf203-a089-49c9-a3e2-53ad89357dda",
   "metadata": {},
   "outputs": [],
   "source": [
    "# 'pixels' sütunundaki verileri listeye dönüştür\n",
    "train_pixels = train_data.pixels.str.split(\" \").tolist()"
   ]
  },
  {
   "cell_type": "code",
   "execution_count": 74,
   "id": "1f2beeeb-bf93-43e0-805f-15385b3eddc4",
   "metadata": {},
   "outputs": [],
   "source": [
    "# İçi içe listelerdeki string verileri int'e dönüştürme fonksiyonu\n",
    "def convert_str_to_int(nested_list):\n",
    "    for i in range(len(nested_list)):\n",
    "        if isinstance(nested_list[i], list):  # Eğer öğe bir liste ise\n",
    "            nested_list[i] = convert_str_to_int(nested_list[i])  # Rekürsif olarak iç listeyi dönüştür\n",
    "        elif isinstance(nested_list[i], str):  # Eğer öğe bir string ise\n",
    "            try:\n",
    "                nested_list[i] = int(nested_list[i])  # String'i int'e dönüştür\n",
    "            except ValueError:\n",
    "                pass  # Eğer dönüşüm başarısızsa, değişiklik yapma\n",
    "    return nested_list"
   ]
  },
  {
   "cell_type": "code",
   "execution_count": 75,
   "id": "dd91beb6-51fa-4595-829c-44aa09434c9c",
   "metadata": {},
   "outputs": [
    {
     "name": "stdout",
     "output_type": "stream",
     "text": [
      "Orijinal Liste: [['1', '2', '3'], ['4', '5'], ['6', '7', '8']]\n",
      "Dönüştürülmüş Liste: [[1, 2, 3], [4, 5], [6, 7, 8]]\n"
     ]
    }
   ],
   "source": [
    "# Örnek iç içe liste\n",
    "nested_list = [['1', '2', '3'], ['4', '5'], ['6', '7', '8']]\n",
    "print(\"Orijinal Liste:\", nested_list)\n",
    "\n",
    "# String değerleri integer'a dönüştürme\n",
    "converted_list = convert_str_to_int(nested_list)\n",
    "print(\"Dönüştürülmüş Liste:\", converted_list)"
   ]
  },
  {
   "cell_type": "code",
   "execution_count": 65,
   "id": "1165a9c5-d24b-462f-9e3e-ef16aa1dab2a",
   "metadata": {},
   "outputs": [
    {
     "data": {
      "text/plain": [
       "list"
      ]
     },
     "execution_count": 65,
     "metadata": {},
     "output_type": "execute_result"
    }
   ],
   "source": [
    "type(train_pixels)"
   ]
  },
  {
   "cell_type": "code",
   "execution_count": 66,
   "id": "71d11574-d1d6-4371-9dbe-ace5e9faad7b",
   "metadata": {},
   "outputs": [],
   "source": [
    "train_pixels = convert_str_to_int(train_pixels)"
   ]
  },
  {
   "cell_type": "code",
   "execution_count": 73,
   "id": "9bd648cd-93e8-4bfb-9375-9432cfe8b08e",
   "metadata": {},
   "outputs": [],
   "source": [
    "#train_pixels= train_pixels.map(lambda x: int(x) if isinstance(x, str) else x)"
   ]
  },
  {
   "cell_type": "code",
   "execution_count": 67,
   "id": "5e273224-6244-4ab2-a4a9-928fdea60db1",
   "metadata": {},
   "outputs": [],
   "source": [
    "train_pixels = pd.DataFrame(train_pixels, dtype=int)"
   ]
  },
  {
   "cell_type": "code",
   "execution_count": 68,
   "id": "ad3bb6ea-fd1d-498f-9261-9fe300578a2d",
   "metadata": {},
   "outputs": [],
   "source": [
    "train_images = train_pixels.values"
   ]
  },
  {
   "cell_type": "code",
   "execution_count": 70,
   "id": "5bb64160-475c-4b7c-98f8-aff6ee858ed6",
   "metadata": {},
   "outputs": [],
   "source": [
    "train_images = train_images.astype(np.float16)"
   ]
  },
  {
   "cell_type": "code",
   "execution_count": 71,
   "id": "1e6048f3-8e12-49a8-9e45-922722a86718",
   "metadata": {},
   "outputs": [
    {
     "name": "stdout",
     "output_type": "stream",
     "text": [
      "[[ 70.  80.  82. ... 106. 109.  82.]\n",
      " [151. 150. 147. ... 193. 183. 184.]\n",
      " [231. 212. 156. ...  88. 110. 152.]\n",
      " ...\n",
      " [ 74.  81.  87. ... 188. 187. 187.]\n",
      " [222. 227. 203. ... 136. 136. 134.]\n",
      " [195. 199. 205. ...   6.  15.  38.]]\n"
     ]
    }
   ],
   "source": [
    "print(train_images)"
   ]
  },
  {
   "cell_type": "code",
   "execution_count": 72,
   "id": "68723fe9-d425-4c2b-9285-0f321ab2cc26",
   "metadata": {},
   "outputs": [
    {
     "name": "stdout",
     "output_type": "stream",
     "text": [
      "(28709, 2304)\n"
     ]
    }
   ],
   "source": [
    "print(train_images.shape)"
   ]
  },
  {
   "cell_type": "code",
   "execution_count": null,
   "id": "c0cccc83-6951-4ac8-88d9-c7f2ab3d73da",
   "metadata": {},
   "outputs": [],
   "source": []
  },
  {
   "cell_type": "code",
   "execution_count": null,
   "id": "0c24f83b-d883-4786-a026-f3adf44f600a",
   "metadata": {},
   "outputs": [],
   "source": []
  },
  {
   "cell_type": "code",
   "execution_count": null,
   "id": "1a82a377-0b0f-43bd-b27d-5c83e0f15f43",
   "metadata": {},
   "outputs": [],
   "source": []
  },
  {
   "cell_type": "code",
   "execution_count": null,
   "id": "27ac4d20-3291-48a7-a9ef-44868c11d7d6",
   "metadata": {},
   "outputs": [],
   "source": []
  },
  {
   "cell_type": "code",
   "execution_count": null,
   "id": "e8f96bf8-3061-428e-bd05-6590dc4bb540",
   "metadata": {},
   "outputs": [],
   "source": []
  },
  {
   "cell_type": "code",
   "execution_count": null,
   "id": "c0e6143f-7022-4759-80e9-0e3e66cb6d30",
   "metadata": {},
   "outputs": [],
   "source": []
  },
  {
   "cell_type": "code",
   "execution_count": null,
   "id": "ea65a3f6-1351-4ff9-93f5-7312f334cb8a",
   "metadata": {},
   "outputs": [],
   "source": []
  },
  {
   "cell_type": "raw",
   "id": "232a08a6-0705-49a9-8b23-72e37a229dd3",
   "metadata": {},
   "source": [
    "# 'pixels' sütunundaki verileri listeye dönüştür\n",
    "train_pixels = train_data.pixels.str.split(\" \")\n",
    "\n",
    "\n",
    "# Her bir öğe üzerinde işlemi uygulayarak boşluklarla ayrılan verileri sayılara dönüştür\n",
    "train_pixels = train_pixels.apply(lambda x: [int(i) for i in x])\n",
    "\n",
    "# Listeyi DataFrame'e çevir\n",
    "train_pixels = pd.DataFrame(train_pixels.tolist(), dtype=int)\n",
    "\n",
    "# Görüntü verilerini numpy dizisine dönüştür\n",
    "train_images = train_pixels.values\n",
    "\n",
    "# Verileri 'float32' türüne çevir (işlem yapılacak)\n",
    "train_images = train_images.astype(np.float32)\n",
    "\n",
    "# Görüntüleri 48x48x1 formatına yeniden şekillendir\n",
    "train_images = train_images.reshape(-1, 48, 48, 1)\n",
    "\n",
    "# Görüntülerin şekli\n",
    "print(\"Shape of train images:\", train_images.shape)\n",
    "\n",
    "# Etiketleri (emotion) 'one-hot' formatına dönüştür\n",
    "train_labels = np_utils.to_categorical(train_data.emotion, num_classes=7)\n",
    "\n",
    "# Etiketlerin şekli\n",
    "print(\"Shape of train labels:\", train_labels.shape)\n",
    "\n",
    "\n",
    "# İlk görüntüyü göster\n",
    "plt.imshow(train_images[0].reshape(48, 48), cmap='gray')\n",
    "plt.title(f\"Emotion: {train_data.emotion.iloc[0]}\")\n",
    "plt.show()"
   ]
  },
  {
   "cell_type": "code",
   "execution_count": null,
   "id": "26c17a5e-4a5a-4596-8a43-66e4a71f0ea0",
   "metadata": {},
   "outputs": [],
   "source": []
  },
  {
   "cell_type": "code",
   "execution_count": null,
   "id": "9fa5ae70-77b9-4cae-b5c6-85074a0e6444",
   "metadata": {},
   "outputs": [],
   "source": []
  },
  {
   "cell_type": "code",
   "execution_count": null,
   "id": "efcf071d-3e83-4114-ae4f-a9a1fe640b0d",
   "metadata": {},
   "outputs": [],
   "source": []
  },
  {
   "cell_type": "code",
   "execution_count": null,
   "id": "7491c115-059e-483a-b6b5-fbbe2db6af9a",
   "metadata": {},
   "outputs": [],
   "source": []
  },
  {
   "cell_type": "code",
   "execution_count": null,
   "id": "9c818b6d-0448-4e0e-b8ee-75dcefeaace2",
   "metadata": {},
   "outputs": [],
   "source": []
  }
 ],
 "metadata": {
  "kernelspec": {
   "display_name": "Python 3 (ipykernel)",
   "language": "python",
   "name": "python3"
  },
  "language_info": {
   "codemirror_mode": {
    "name": "ipython",
    "version": 3
   },
   "file_extension": ".py",
   "mimetype": "text/x-python",
   "name": "python",
   "nbconvert_exporter": "python",
   "pygments_lexer": "ipython3",
   "version": "3.12.3"
  }
 },
 "nbformat": 4,
 "nbformat_minor": 5
}
