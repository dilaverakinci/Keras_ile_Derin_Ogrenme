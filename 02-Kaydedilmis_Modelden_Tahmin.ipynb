{
 "cells": [
  {
   "cell_type": "markdown",
   "id": "363c6c9f-af4e-424a-b357-854cdb800b20",
   "metadata": {},
   "source": [
    "# Kaydedilmiş modeli çağırma ve tahmin yapma"
   ]
  },
  {
   "cell_type": "code",
   "execution_count": 8,
   "id": "5d8abcd5-57ca-402a-9464-50fbf459165b",
   "metadata": {},
   "outputs": [],
   "source": [
    "from tensorflow.keras.datasets import mnist\n",
    "import matplotlib.pyplot as plt\n",
    "import numpy as np"
   ]
  },
  {
   "cell_type": "code",
   "execution_count": 9,
   "id": "55ba9d57-dc94-44cb-aaf2-ac3c3b6f4585",
   "metadata": {},
   "outputs": [],
   "source": [
    "# Test verisini yükleyin\n",
    "(train_images,train_labels),(test_images,test_labels) = mnist.load_data()"
   ]
  },
  {
   "cell_type": "code",
   "execution_count": 10,
   "id": "625f0513-c5b0-43ae-8a60-c2c4c746da33",
   "metadata": {},
   "outputs": [],
   "source": [
    "# Modeli yükleyin\n",
    "from tensorflow.keras.models import load_model\n",
    "network = load_model('mnist_model.keras')"
   ]
  },
  {
   "cell_type": "code",
   "execution_count": 11,
   "id": "4cecbb21-88cb-4812-8faa-0e8e120f27ee",
   "metadata": {},
   "outputs": [],
   "source": [
    "# Test verisinden bir örnek seçin\n",
    "index = 53  # 0. test örneği\n",
    "test_image = test_images[index]\n",
    "test_label =test_labels[index]"
   ]
  },
  {
   "cell_type": "code",
   "execution_count": 12,
   "id": "8a6a8129-886e-483f-8aea-975914592c74",
   "metadata": {},
   "outputs": [
    {
     "data": {
      "image/png": "[encoded data removed]",
      "text/plain": [
       "<Figure size 640x480 with 1 Axes>"
      ]
     },
     "metadata": {},
     "output_type": "display_data"
    }
   ],
   "source": [
    "# Görüntüyü görselleştirelim (isteğe bağlı)\n",
    "plt.imshow(test_image.reshape(28, 28), cmap=\"gray\")\n",
    "plt.show()"
   ]
  },
  {
   "cell_type": "code",
   "execution_count": 13,
   "id": "2db40f66-2939-41dd-b83f-c760783a6e7d",
   "metadata": {},
   "outputs": [],
   "source": [
    "# Görüntüyü modelin beklediği şekle sokun\n",
    "test_image = test_image.reshape(1, 28 * 28)  # (1, 784) şekline getiriyoruz\n",
    "test_image = test_image.astype(\"float32\") / 255  # Normalizasyon"
   ]
  },
  {
   "cell_type": "code",
   "execution_count": 14,
   "id": "94436824-2d9c-432b-8064-4371fa27dcf1",
   "metadata": {},
   "outputs": [
    {
     "name": "stderr",
     "output_type": "stream",
     "text": [
      "WARNING: All log messages before absl::InitializeLog() is called are written to STDERR\n",
      "I0000 00:00:1738313895.408536    9274 service.cc:148] XLA service 0x7f0430004ad0 initialized for platform CUDA (this does not guarantee that XLA will be used). Devices:\n",
      "I0000 00:00:1738313895.408634    9274 service.cc:156]   StreamExecutor device (0): NVIDIA GeForce GTX 1070, Compute Capability 6.1\n",
      "I0000 00:00:1738313895.408639    9274 service.cc:156]   StreamExecutor device (1): NVIDIA GeForce GTX 1070, Compute Capability 6.1\n",
      "2025-01-31 11:58:15.415856: I tensorflow/compiler/mlir/tensorflow/utils/dump_mlir_util.cc:268] disabling MLIR crash reproducer, set env var `MLIR_CRASH_REPRODUCER_DIRECTORY` to enable.\n",
      "I0000 00:00:1738313895.434973    9274 cuda_dnn.cc:529] Loaded cuDNN version 90300\n"
     ]
    },
    {
     "name": "stdout",
     "output_type": "stream",
     "text": [
      "\u001b[1m1/1\u001b[0m \u001b[32m━━━━━━━━━━━━━━━━━━━━\u001b[0m\u001b[37m\u001b[0m \u001b[1m0s\u001b[0m 282ms/step\n"
     ]
    },
    {
     "name": "stderr",
     "output_type": "stream",
     "text": [
      "I0000 00:00:1738313895.617429    9274 device_compiler.h:188] Compiled cluster using XLA!  This line is logged at most once for the lifetime of the process.\n"
     ]
    }
   ],
   "source": [
    "# Model ile tahmin yapın\n",
    "predictions = network.predict(test_image)"
   ]
  },
  {
   "cell_type": "code",
   "execution_count": 15,
   "id": "017de1e9-1b4e-46a2-b1d6-d65d2302f6ff",
   "metadata": {},
   "outputs": [
    {
     "name": "stdout",
     "output_type": "stream",
     "text": [
      "Tahmin  : 5\n",
      "Veri etiketi : 5\n"
     ]
    }
   ],
   "source": [
    "# Tahminin hangi sınıfa ait olduğunu bulalım\n",
    "predicted_label = np.argmax(predictions)\n",
    "\n",
    "print(f\"Tahmin  : {predicted_label}\")\n",
    "print(f\"Veri etiketi : {test_label}\")"
   ]
  },
  {
   "cell_type": "code",
   "execution_count": 16,
   "id": "fcab02d0-f337-4d97-a0e4-abe235996067",
   "metadata": {},
   "outputs": [
    {
     "name": "stdout",
     "output_type": "stream",
     "text": [
      "Tahmin : 5\n"
     ]
    }
   ],
   "source": [
    "print(f\"Tahmin : {predicted_label}\" if predicted_label==test_label else \"Hata\")"
   ]
  },
  {
   "cell_type": "code",
   "execution_count": null,
   "id": "c348a687-902a-4f10-a316-2ecf5002e332",
   "metadata": {},
   "outputs": [],
   "source": []
  }
 ],
 "metadata": {
  "kernelspec": {
   "display_name": "Python 3 (ipykernel)",
   "language": "python",
   "name": "python3"
  },
  "language_info": {
   "codemirror_mode": {
    "name": "ipython",
    "version": 3
   },
   "file_extension": ".py",
   "mimetype": "text/x-python",
   "name": "python",
   "nbconvert_exporter": "python",
   "pygments_lexer": "ipython3",
   "version": "3.12.3"
  }
 },
 "nbformat": 4,
 "nbformat_minor": 5
}
